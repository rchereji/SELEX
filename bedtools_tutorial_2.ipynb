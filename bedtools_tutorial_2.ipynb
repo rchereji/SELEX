{
 "cells": [
  {
   "cell_type": "markdown",
   "metadata": {},
   "source": [
    "## Gcn4 peak analysis (part 2)"
   ]
  },
  {
   "cell_type": "markdown",
   "metadata": {},
   "source": [
    "Check the raw data (bam files)"
   ]
  },
  {
   "cell_type": "code",
   "execution_count": 1,
   "metadata": {},
   "outputs": [
    {
     "name": "stdout",
     "output_type": "stream",
     "text": [
      "total 2839040\n",
      "-rwxrwxrwx  1 cherejirv  NIH\\Domain Users   224M Apr  2 16:03 180808_G4_1R.bam\n",
      "-rwxrwxrwx  1 cherejirv  NIH\\Domain Users   304M Apr  2 16:03 180808_G4_2R.bam\n",
      "-rwxrwxrwx  1 cherejirv  NIH\\Domain Users   342M Apr  2 16:02 180808_G4_3R.bam\n",
      "-rwxrwxrwx  1 cherejirv  NIH\\Domain Users   516M Apr  2 16:03 180831_InputDNA.bam\n"
     ]
    }
   ],
   "source": [
    "# List the available BAM files\n",
    "ls -lh BAM_files/"
   ]
  },
  {
   "cell_type": "code",
   "execution_count": 3,
   "metadata": {},
   "outputs": [],
   "source": [
    "# Count the reads that were mapped to each peak\n",
    "# Round 1\n",
    "bedtools coverage -counts -a data/resized_SELEX_3_peaks_found_in_ChIP.bed -b BAM_files/180808_G4_1R.bam \\\n",
    "    > data/Counts_for_peaks_found_in_ChIP_SELEX_1.txt\n",
    "    \n",
    "bedtools coverage -counts -a data/resized_SELEX_3_peaks_NOT_found_in_ChIP.bed -b BAM_files/180808_G4_1R.bam \\\n",
    "    > data/Counts_for_peaks_NOT_found_in_ChIP_SELEX_1.txt\n",
    "\n",
    "# Round 2\n",
    "bedtools coverage -counts -a data/resized_SELEX_3_peaks_found_in_ChIP.bed -b BAM_files/180808_G4_2R.bam \\\n",
    "    > data/Counts_for_peaks_found_in_ChIP_SELEX_2.txt\n",
    "    \n",
    "bedtools coverage -counts -a data/resized_SELEX_3_peaks_NOT_found_in_ChIP.bed -b BAM_files/180808_G4_2R.bam \\\n",
    "    > data/Counts_for_peaks_NOT_found_in_ChIP_SELEX_2.txt\n",
    "    \n",
    "# Round 3\n",
    "bedtools coverage -counts -a data/resized_SELEX_3_peaks_found_in_ChIP.bed -b BAM_files/180808_G4_3R.bam \\\n",
    "    > data/Counts_for_peaks_found_in_ChIP_SELEX_3.txt\n",
    "    \n",
    "bedtools coverage -counts -a data/resized_SELEX_3_peaks_NOT_found_in_ChIP.bed -b BAM_files/180808_G4_3R.bam \\\n",
    "    > data/Counts_for_peaks_NOT_found_in_ChIP_SELEX_3.txt\n",
    "    \n",
    "# Input\n",
    "bedtools coverage -counts -a data/resized_SELEX_3_peaks_found_in_ChIP.bed -b BAM_files/180831_InputDNA.bam \\\n",
    "    > data/Counts_for_peaks_found_in_ChIP_Input.txt\n",
    "    \n",
    "bedtools coverage -counts -a data/resized_SELEX_3_peaks_NOT_found_in_ChIP.bed -b BAM_files/180831_InputDNA.bam \\\n",
    "    > data/Counts_for_peaks_NOT_found_in_ChIP_Input.txt"
   ]
  },
  {
   "cell_type": "markdown",
   "metadata": {},
   "source": [
    "Check the data."
   ]
  },
  {
   "cell_type": "code",
   "execution_count": 4,
   "metadata": {},
   "outputs": [
    {
     "name": "stdout",
     "output_type": "stream",
     "text": [
      "chrI\t18262\t18362\t174\n",
      "chrI\t19438\t19538\t429\n",
      "chrI\t22177\t22277\t310\n",
      "chrI\t54980\t55080\t98\n",
      "chrI\t75044\t75144\t207\n",
      "chrI\t89338\t89438\t131\n",
      "chrI\t99176\t99276\t149\n",
      "chrI\t115572\t115672\t409\n",
      "chrI\t129224\t129324\t468\n",
      "chrI\t197276\t197376\t149\n"
     ]
    }
   ],
   "source": [
    "head data/Counts_for_peaks_found_in_ChIP_Input.txt"
   ]
  },
  {
   "cell_type": "code",
   "execution_count": 6,
   "metadata": {},
   "outputs": [
    {
     "name": "stdout",
     "output_type": "stream",
     "text": [
      "data/Counts_for_peaks_NOT_found_in_ChIP_Input.txt\n",
      "data/Counts_for_peaks_NOT_found_in_ChIP_SELEX_1.txt\n",
      "data/Counts_for_peaks_NOT_found_in_ChIP_SELEX_2.txt\n",
      "data/Counts_for_peaks_NOT_found_in_ChIP_SELEX_3.txt\n",
      "data/Counts_for_peaks_found_in_ChIP_Input.txt\n",
      "data/Counts_for_peaks_found_in_ChIP_SELEX_1.txt\n",
      "data/Counts_for_peaks_found_in_ChIP_SELEX_2.txt\n",
      "data/Counts_for_peaks_found_in_ChIP_SELEX_3.txt\n"
     ]
    }
   ],
   "source": [
    "ls data/*.txt"
   ]
  },
  {
   "cell_type": "code",
   "execution_count": null,
   "metadata": {},
   "outputs": [],
   "source": []
  }
 ],
 "metadata": {
  "kernelspec": {
   "display_name": "Bash",
   "language": "bash",
   "name": "bash"
  },
  "language_info": {
   "codemirror_mode": "shell",
   "file_extension": ".sh",
   "mimetype": "text/x-sh",
   "name": "bash"
  }
 },
 "nbformat": 4,
 "nbformat_minor": 2
}
