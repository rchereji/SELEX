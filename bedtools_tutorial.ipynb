{
 "cells": [
  {
   "cell_type": "markdown",
   "metadata": {},
   "source": [
    "## Gcn4 peak analysis"
   ]
  },
  {
   "cell_type": "markdown",
   "metadata": {},
   "source": [
    "### Running Bash commands inside a Jupyter notebook\n",
    "To run Bash commands in a Jupyter notebook, you need to install the Bash kernel for Jupyter. For that, run the following commands in the terminal:\n",
    "```\n",
    "pip install bash_kernel\n",
    "python -m bash_kernel.install\n",
    "```"
   ]
  },
  {
   "cell_type": "markdown",
   "metadata": {},
   "source": [
    "### Check the raw data"
   ]
  },
  {
   "cell_type": "markdown",
   "metadata": {},
   "source": [
    "We have a list of Gcn4 peaks (from in vivo/in vitro experiments) that we want to compare. Some peaks are stored in BED files, some peaks are stored in narrowPeak files (output from MACS2)."
   ]
  },
  {
   "cell_type": "code",
   "execution_count": 1,
   "metadata": {},
   "outputs": [
    {
     "name": "stdout",
     "output_type": "stream",
     "text": [
      "total 25448\n",
      "-rwxrwxrwx  1 cherejirv  NIH\\Domain Users    29K Mar 25 15:51 Gcn4_ChIP-seq_peaks.bed\n",
      "-rwxrwxrwx  1 cherejirv  NIH\\Domain Users    97K Mar 25 15:51 Gcn4_motifs.bed\n",
      "-rwxrwxrwx  1 cherejirv  NIH\\Domain Users    11K Mar 25 15:51 Round1_peaks.narrowPeak\n",
      "-rwxrwxrwx  1 cherejirv  NIH\\Domain Users   158K Mar 25 15:51 Round2_peaks.narrowPeak\n",
      "-rwxrwxrwx  1 cherejirv  NIH\\Domain Users   228K Mar 25 15:51 Round3_peaks.narrowPeak\n",
      "-rwxr-x---  1 cherejirv  NIH\\Domain Users    12M Mar 26 15:45 sacCer3.fa\n"
     ]
    }
   ],
   "source": [
    "# List the available BED files and narrowPeak files\n",
    "ls -lh raw_data/"
   ]
  },
  {
   "cell_type": "code",
   "execution_count": 2,
   "metadata": {},
   "outputs": [
    {
     "name": "stdout",
     "output_type": "stream",
     "text": [
      "chrI\t18235\t18470\tName=Peak_1;Nearest_TSS=YAL064W\n",
      "chrI\t19302\t19696\tName=Peak_2;Nearest_TSS=YAL064W\n",
      "chrI\t22053\t22364\tName=Peak_3;Nearest_TSS=YAL063C-A\n",
      "chrI\t54820\t55264\tName=Peak_4;Nearest_TSS=YAL048C\n",
      "chrI\t75011\t75257\tName=Peak_5;Nearest_TSS=YAL036C\n"
     ]
    }
   ],
   "source": [
    "# Check the head/tail of one of some these files\n",
    "head -n 5 raw_data/Gcn4_ChIP-seq_peaks.bed"
   ]
  },
  {
   "cell_type": "code",
   "execution_count": 3,
   "metadata": {},
   "outputs": [
    {
     "name": "stdout",
     "output_type": "stream",
     "text": [
      "chrXVI\t62090\t62195\tRound1_peak_150\t389\t.\t4.14545\t42.20868\t38.91930\t48\n",
      "chrXVI\t497444\t497563\tRound1_peak_151\t597\t.\t5.19936\t64.26705\t59.77417\t59\n",
      "chrXVI\t625273\t625399\tRound1_peak_152\t682\t.\t6.42615\t73.55953\t68.24533\t67\n",
      "chrXVI\t626000\t626100\tRound1_peak_153\t432\t.\t4.68250\t46.74600\t43.24176\t46\n",
      "chrXVI\t747290\t747400\tRound1_peak_154\t519\t.\t4.90535\t55.89925\t51.93674\t57\n"
     ]
    }
   ],
   "source": [
    "tail -n 5 raw_data/Round1_peaks.narrowPeak"
   ]
  },
  {
   "cell_type": "markdown",
   "metadata": {},
   "source": [
    "You can read more about the narrowPeak format here:  \n",
    "https://genome.ucsc.edu/FAQ/FAQformat.html#format12\n",
    "\n",
    "You can read more about the possible columns in a BED file here:  \n",
    "https://genome.ucsc.edu/FAQ/FAQformat.html#format1"
   ]
  },
  {
   "cell_type": "markdown",
   "metadata": {},
   "source": [
    "The raw files contain different numbers of rows. Let's make these look nicer by keeping only the rows that matter (chromosome name, start position, end position)."
   ]
  },
  {
   "cell_type": "code",
   "execution_count": 4,
   "metadata": {},
   "outputs": [],
   "source": [
    "# Make a new folder\n",
    "mkdir -p data\n",
    "\n",
    "# Remove the extra columns, and keep only the required first 3 columns\n",
    "cut -f 1,2,3 raw_data/Gcn4_ChIP-seq_peaks.bed | sort -k1,1V -k2,2n -k3,3n - > data/Gcn4_ChIP_Rawal_et_al.bed\n",
    "cut -f 1,2,3 raw_data/Gcn4_motifs.bed | sort -k1,1V -k2,2n -k3,3n - > data/Gcn4_motifs_Rawal_et_al.bed\n",
    "cut -f 1,2,3 raw_data/Round1_peaks.narrowPeak | sort -k1,1V -k2,2n -k3,3n - > data/Gcn4_SELEX_1.bed\n",
    "cut -f 1,2,3 raw_data/Round2_peaks.narrowPeak | sort -k1,1V -k2,2n -k3,3n - > data/Gcn4_SELEX_2.bed\n",
    "cut -f 1,2,3 raw_data/Round3_peaks.narrowPeak | sort -k1,1V -k2,2n -k3,3n - > data/Gcn4_SELEX_3.bed"
   ]
  },
  {
   "cell_type": "code",
   "execution_count": 5,
   "metadata": {},
   "outputs": [
    {
     "name": "stdout",
     "output_type": "stream",
     "text": [
      "==> data/Gcn4_ChIP_Rawal_et_al.bed <==\n",
      "chrI\t18235\t18470\n",
      "chrI\t19302\t19696\n",
      "chrI\t22053\t22364\n",
      "chrI\t54820\t55264\n",
      "chrI\t75011\t75257\n",
      "\n",
      "==> data/Gcn4_SELEX_1.bed <==\n",
      "chr2um\t76\t634\n",
      "chr2um\t819\t1523\n",
      "chr2um\t1643\t2085\n",
      "chr2um\t2170\t2751\n",
      "chr2um\t2855\t2968\n",
      "\n",
      "==> data/Gcn4_SELEX_2.bed <==\n",
      "chr2um\t79\t621\n",
      "chr2um\t858\t1054\n",
      "chr2um\t1198\t1462\n",
      "chr2um\t1642\t2096\n",
      "chr2um\t2253\t2733\n",
      "\n",
      "==> data/Gcn4_SELEX_3.bed <==\n",
      "chr2um\t140\t625\n",
      "chr2um\t1188\t1325\n",
      "chr2um\t1647\t2059\n",
      "chr2um\t2270\t2732\n",
      "chr2um\t3479\t3774\n",
      "\n",
      "==> data/Gcn4_motifs_Rawal_et_al.bed <==\n",
      "chrI\t13673\t13683\n",
      "chrI\t18324\t18334\n",
      "chrI\t19487\t19497\n",
      "chrI\t22216\t22226\n",
      "chrI\t33630\t33640\n"
     ]
    }
   ],
   "source": [
    "# Check the new files\n",
    "head -n 5 data/*"
   ]
  },
  {
   "cell_type": "markdown",
   "metadata": {},
   "source": [
    "We see that some SELEX peaks were mapped to the 2 micron plasmid. Some peaks are found on chrMT. Let's remove all these."
   ]
  },
  {
   "cell_type": "code",
   "execution_count": 6,
   "metadata": {},
   "outputs": [],
   "source": [
    "grep -v '^chr2um' data/Gcn4_SELEX_1.bed |\n",
    "    grep -v '^chrMT' - > data/Gcn4_SELEX_1_wo_2micron_and_mito.bed\n",
    "    \n",
    "grep -v '^chr2um' data/Gcn4_SELEX_2.bed |\n",
    "    grep -v '^chrMT' - > data/Gcn4_SELEX_2_wo_2micron_and_mito.bed\n",
    "    \n",
    "grep -v '^chr2um' data/Gcn4_SELEX_3.bed |\n",
    "    grep -v '^chrMT' - > data/Gcn4_SELEX_3_wo_2micron_and_mito.bed"
   ]
  },
  {
   "cell_type": "code",
   "execution_count": 7,
   "metadata": {},
   "outputs": [],
   "source": [
    "# Rename these file to simplify our life (overwrite the old files)\n",
    "mv data/Gcn4_SELEX_1_wo_2micron_and_mito.bed data/Gcn4_SELEX_1.bed\n",
    "mv data/Gcn4_SELEX_2_wo_2micron_and_mito.bed data/Gcn4_SELEX_2.bed\n",
    "mv data/Gcn4_SELEX_3_wo_2micron_and_mito.bed data/Gcn4_SELEX_3.bed"
   ]
  },
  {
   "cell_type": "code",
   "execution_count": 8,
   "metadata": {},
   "outputs": [
    {
     "name": "stdout",
     "output_type": "stream",
     "text": [
      "==> data/Gcn4_SELEX_1.bed <==\n",
      "chrI\t22164\t22293\n",
      "chrI\t80242\t80355\n",
      "chrI\t115563\t115684\n",
      "chrII\t33917\t34027\n",
      "chrII\t254305\t254427\n",
      "\n",
      "==> data/Gcn4_SELEX_2.bed <==\n",
      "chrI\t12978\t13078\n",
      "chrI\t18257\t18382\n",
      "chrI\t19406\t19567\n",
      "chrI\t22148\t22306\n",
      "chrI\t25112\t25248\n",
      "\n",
      "==> data/Gcn4_SELEX_3.bed <==\n",
      "chrI\t12961\t13094\n",
      "chrI\t13624\t13728\n",
      "chrI\t18243\t18381\n",
      "chrI\t19394\t19583\n",
      "chrI\t22136\t22318\n"
     ]
    }
   ],
   "source": [
    "# Check the new files\n",
    "head -n 5 data/Gcn4_SELEX_?.bed"
   ]
  },
  {
   "cell_type": "code",
   "execution_count": 9,
   "metadata": {},
   "outputs": [
    {
     "name": "stdout",
     "output_type": "stream",
     "text": [
      "     546 data/Gcn4_ChIP_Rawal_et_al.bed\n",
      "    1748 data/Gcn4_motifs_Rawal_et_al.bed\n",
      "     144 data/Gcn4_SELEX_1.bed\n",
      "    2227 data/Gcn4_SELEX_2.bed\n",
      "    2778 data/Gcn4_SELEX_3.bed\n",
      "    7443 total\n"
     ]
    }
   ],
   "source": [
    "# Let's check the number of peaks from each file (after we removed the peaks from the 2 micron plasmid)\n",
    "wc -l data/Gcn4_ChIP_Rawal_et_al.bed \\\n",
    "      data/Gcn4_motifs_Rawal_et_al.bed \\\n",
    "      data/Gcn4_SELEX_?.bed"
   ]
  },
  {
   "cell_type": "markdown",
   "metadata": {},
   "source": [
    "To do more complicated things, we'll use the `bedtools` package."
   ]
  },
  {
   "cell_type": "markdown",
   "metadata": {},
   "source": [
    "### Intro to bedtools\n",
    "To install bedtools, first install Homebrew (https://brew.sh/):\n",
    "```\n",
    "/usr/bin/ruby -e \"$(curl -fsSL https://raw.githubusercontent.com/Homebrew/install/master/install)\"\n",
    "```\n",
    "then install bedtools:\n",
    "```\n",
    "brew install bedtools\n",
    "```"
   ]
  },
  {
   "cell_type": "code",
   "execution_count": 10,
   "metadata": {},
   "outputs": [
    {
     "name": "stdout",
     "output_type": "stream",
     "text": [
      "/usr/local/bin/bedtools\n"
     ]
    }
   ],
   "source": [
    "# Check that bedtools is correctly installed and added to your PATH\n",
    "which bedtools"
   ]
  },
  {
   "cell_type": "code",
   "execution_count": 11,
   "metadata": {},
   "outputs": [
    {
     "name": "stdout",
     "output_type": "stream",
     "text": [
      "bedtools is a powerful toolset for genome arithmetic.\n",
      "\n",
      "Version:   v2.27.1\n",
      "About:     developed in the quinlanlab.org and by many contributors worldwide.\n",
      "Docs:      http://bedtools.readthedocs.io/\n",
      "Code:      https://github.com/arq5x/bedtools2\n",
      "Mail:      https://groups.google.com/forum/#!forum/bedtools-discuss\n",
      "\n",
      "Usage:     bedtools <subcommand> [options]\n",
      "\n",
      "The bedtools sub-commands include:\n",
      "\n",
      "[ Genome arithmetic ]\n",
      "    intersect     Find overlapping intervals in various ways.\n",
      "    window        Find overlapping intervals within a window around an interval.\n",
      "    closest       Find the closest, potentially non-overlapping interval.\n",
      "    coverage      Compute the coverage over defined intervals.\n",
      "    map           Apply a function to a column for each overlapping interval.\n",
      "    genomecov     Compute the coverage over an entire genome.\n",
      "    merge         Combine overlapping/nearby intervals into a single interval.\n",
      "    cluster       Cluster (but don't merge) overlapping/nearby intervals.\n",
      "    complement    Extract intervals _not_ represented by an interval file.\n",
      "    shift         Adjust the position of intervals.\n",
      "    subtract      Remove intervals based on overlaps b/w two files.\n",
      "    slop          Adjust the size of intervals.\n",
      "    flank         Create new intervals from the flanks of existing intervals.\n",
      "    sort          Order the intervals in a file.\n",
      "    random        Generate random intervals in a genome.\n",
      "    shuffle       Randomly redistrubute intervals in a genome.\n",
      "    sample        Sample random records from file using reservoir sampling.\n",
      "    spacing       Report the gap lengths between intervals in a file.\n",
      "    annotate      Annotate coverage of features from multiple files.\n",
      "\n",
      "[ Multi-way file comparisons ]\n",
      "    multiinter    Identifies common intervals among multiple interval files.\n",
      "    unionbedg     Combines coverage intervals from multiple BEDGRAPH files.\n",
      "\n",
      "[ Paired-end manipulation ]\n",
      "    pairtobed     Find pairs that overlap intervals in various ways.\n",
      "    pairtopair    Find pairs that overlap other pairs in various ways.\n",
      "\n",
      "[ Format conversion ]\n",
      "    bamtobed      Convert BAM alignments to BED (& other) formats.\n",
      "    bedtobam      Convert intervals to BAM records.\n",
      "    bamtofastq    Convert BAM records to FASTQ records.\n",
      "    bedpetobam    Convert BEDPE intervals to BAM records.\n",
      "    bed12tobed6   Breaks BED12 intervals into discrete BED6 intervals.\n",
      "\n",
      "[ Fasta manipulation ]\n",
      "    getfasta      Use intervals to extract sequences from a FASTA file.\n",
      "    maskfasta     Use intervals to mask sequences from a FASTA file.\n",
      "    nuc           Profile the nucleotide content of intervals in a FASTA file.\n",
      "\n",
      "[ BAM focused tools ]\n",
      "    multicov      Counts coverage from multiple BAMs at specific intervals.\n",
      "    tag           Tag BAM alignments based on overlaps with interval files.\n",
      "\n",
      "[ Statistical relationships ]\n",
      "    jaccard       Calculate the Jaccard statistic b/w two sets of intervals.\n",
      "    reldist       Calculate the distribution of relative distances b/w two files.\n",
      "    fisher        Calculate Fisher statistic b/w two feature files.\n",
      "\n",
      "[ Miscellaneous tools ]\n",
      "    overlap       Computes the amount of overlap from two intervals.\n",
      "    igv           Create an IGV snapshot batch script.\n",
      "    links         Create a HTML page of links to UCSC locations.\n",
      "    makewindows   Make interval \"windows\" across a genome.\n",
      "    groupby       Group by common cols. & summarize oth. cols. (~ SQL \"groupBy\")\n",
      "    expand        Replicate lines based on lists of values in columns.\n",
      "    split         Split a file into multiple files with equal records or base pairs.\n",
      "\n",
      "[ General help ]\n",
      "    --help        Print this help menu.\n",
      "    --version     What version of bedtools are you using?.\n",
      "    --contact     Feature requests, bugs, mailing lists, etc.\n",
      "\n"
     ]
    }
   ],
   "source": [
    "bedtools"
   ]
  },
  {
   "cell_type": "markdown",
   "metadata": {},
   "source": [
    "### bedtools intersect"
   ]
  },
  {
   "cell_type": "markdown",
   "metadata": {},
   "source": [
    "The `intersect` command is the workhorse of the `bedtools` suite. It compares two or more BED/BAM/VCF/GFF files and identifies all the regions in the gemome where the features in the two files overlap (that is, share at least one base pair in common)."
   ]
  },
  {
   "cell_type": "markdown",
   "metadata": {},
   "source": [
    "![intersect](img/bedtools_intersect-01.png \"bedtools intersect\")"
   ]
  },
  {
   "cell_type": "code",
   "execution_count": 12,
   "metadata": {},
   "outputs": [
    {
     "name": "stdout",
     "output_type": "stream",
     "text": [
      "\n",
      "Tool:    bedtools intersect (aka intersectBed)\n",
      "Version: v2.27.1\n",
      "Summary: Report overlaps between two feature files.\n",
      "\n",
      "Usage:   bedtools intersect [OPTIONS] -a <bed/gff/vcf/bam> -b <bed/gff/vcf/bam>\n",
      "\n",
      "\tNote: -b may be followed with multiple databases and/or \n",
      "\twildcard (*) character(s). \n",
      "Options: \n",
      "\t-wa\tWrite the original entry in A for each overlap.\n",
      "\n",
      "\t-wb\tWrite the original entry in B for each overlap.\n",
      "\t\t- Useful for knowing _what_ A overlaps. Restricted by -f and -r.\n",
      "\n",
      "\t-loj\tPerform a \"left outer join\". That is, for each feature in A\n",
      "\t\treport each overlap with B.  If no overlaps are found, \n",
      "\t\treport a NULL feature for B.\n",
      "\n",
      "\t-wo\tWrite the original A and B entries plus the number of base\n",
      "\t\tpairs of overlap between the two features.\n",
      "\t\t- Overlaps restricted by -f and -r.\n",
      "\t\t  Only A features with overlap are reported.\n",
      "\n",
      "\t-wao\tWrite the original A and B entries plus the number of base\n",
      "\t\tpairs of overlap between the two features.\n",
      "\t\t- Overlapping features restricted by -f and -r.\n",
      "\t\t  However, A features w/o overlap are also reported\n",
      "\t\t  with a NULL B feature and overlap = 0.\n",
      "\n",
      "\t-u\tWrite the original A entry _once_ if _any_ overlaps found in B.\n",
      "\t\t- In other words, just report the fact >=1 hit was found.\n",
      "\t\t- Overlaps restricted by -f and -r.\n",
      "\n",
      "\t-c\tFor each entry in A, report the number of overlaps with B.\n",
      "\t\t- Reports 0 for A entries that have no overlap with B.\n",
      "\t\t- Overlaps restricted by -f and -r.\n",
      "\n",
      "\t-v\tOnly report those entries in A that have _no overlaps_ with B.\n",
      "\t\t- Similar to \"grep -v\" (an homage).\n",
      "\n",
      "\t-ubam\tWrite uncompressed BAM output. Default writes compressed BAM.\n",
      "\n",
      "\t-s\tRequire same strandedness.  That is, only report hits in B\n",
      "\t\tthat overlap A on the _same_ strand.\n",
      "\t\t- By default, overlaps are reported without respect to strand.\n",
      "\n",
      "\t-S\tRequire different strandedness.  That is, only report hits in B\n",
      "\t\tthat overlap A on the _opposite_ strand.\n",
      "\t\t- By default, overlaps are reported without respect to strand.\n",
      "\n",
      "\t-f\tMinimum overlap required as a fraction of A.\n",
      "\t\t- Default is 1E-9 (i.e., 1bp).\n",
      "\t\t- FLOAT (e.g. 0.50)\n",
      "\n",
      "\t-F\tMinimum overlap required as a fraction of B.\n",
      "\t\t- Default is 1E-9 (i.e., 1bp).\n",
      "\t\t- FLOAT (e.g. 0.50)\n",
      "\n",
      "\t-r\tRequire that the fraction overlap be reciprocal for A AND B.\n",
      "\t\t- In other words, if -f is 0.90 and -r is used, this requires\n",
      "\t\t  that B overlap 90% of A and A _also_ overlaps 90% of B.\n",
      "\n",
      "\t-e\tRequire that the minimum fraction be satisfied for A OR B.\n",
      "\t\t- In other words, if -e is used with -f 0.90 and -F 0.10 this requires\n",
      "\t\t  that either 90% of A is covered OR 10% of  B is covered.\n",
      "\t\t  Without -e, both fractions would have to be satisfied.\n",
      "\n",
      "\t-split\tTreat \"split\" BAM or BED12 entries as distinct BED intervals.\n",
      "\n",
      "\t-g\tProvide a genome file to enforce consistent chromosome sort order\n",
      "\t\tacross input files. Only applies when used with -sorted option.\n",
      "\n",
      "\t-nonamecheck\tFor sorted data, don't throw an error if the file has different naming conventions\n",
      "\t\t\tfor the same chromosome. ex. \"chr1\" vs \"chr01\".\n",
      "\n",
      "\t-sorted\tUse the \"chromsweep\" algorithm for sorted (-k1,1 -k2,2n) input.\n",
      "\n",
      "\t-names\tWhen using multiple databases, provide an alias for each that\n",
      "\t\twill appear instead of a fileId when also printing the DB record.\n",
      "\n",
      "\t-filenames\tWhen using multiple databases, show each complete filename\n",
      "\t\t\tinstead of a fileId when also printing the DB record.\n",
      "\n",
      "\t-sortout\tWhen using multiple databases, sort the output DB hits\n",
      "\t\t\tfor each record.\n",
      "\n",
      "\t-bed\tIf using BAM input, write output as BED.\n",
      "\n",
      "\t-header\tPrint the header from the A file prior to results.\n",
      "\n",
      "\t-nobuf\tDisable buffered output. Using this option will cause each line\n",
      "\t\tof output to be printed as it is generated, rather than saved\n",
      "\t\tin a buffer. This will make printing large output files \n",
      "\t\tnoticeably slower, but can be useful in conjunction with\n",
      "\t\tother software tools and scripts that need to process one\n",
      "\t\tline of bedtools output at a time.\n",
      "\n",
      "\t-iobuf\tSpecify amount of memory to use for input buffer.\n",
      "\t\tTakes an integer argument. Optional suffixes K/M/G supported.\n",
      "\t\tNote: currently has no effect with compressed files.\n",
      "\n",
      "Notes: \n",
      "\t(1) When a BAM file is used for the A file, the alignment is retained if overlaps exist,\n",
      "\tand excluded if an overlap cannot be found.  If multiple overlaps exist, they are not\n",
      "\treported, as we are only testing for one or more overlaps.\n",
      "\n",
      "\n",
      "\n",
      "\n",
      "***** ERROR: No input file given. Exiting. *****\n"
     ]
    },
    {
     "ename": "",
     "evalue": "1",
     "output_type": "error",
     "traceback": []
    }
   ],
   "source": [
    "bedtools intersect"
   ]
  },
  {
   "cell_type": "markdown",
   "metadata": {},
   "source": [
    "The most useful options:\n",
    "```\n",
    "-wa    Write the original entry in A for each overlap.\n",
    "-v     Only report those entries in A that have _no overlaps_ with B.\n",
    "-wb    Write the original entry in B for each overlap.\n",
    "```"
   ]
  },
  {
   "cell_type": "code",
   "execution_count": 13,
   "metadata": {},
   "outputs": [
    {
     "name": "stdout",
     "output_type": "stream",
     "text": [
      "      83\n"
     ]
    }
   ],
   "source": [
    "# Check how many of the ChIP-seq peaks are found in a SELEX round\n",
    "bedtools intersect -wa -a data/Gcn4_ChIP_Rawal_et_al.bed -b data/Gcn4_SELEX_1.bed | wc -l"
   ]
  },
  {
   "cell_type": "code",
   "execution_count": 14,
   "metadata": {},
   "outputs": [
    {
     "name": "stdout",
     "output_type": "stream",
     "text": [
      "     465\n"
     ]
    }
   ],
   "source": [
    "# Check how many of the ChIP-seq peaks are NOT found in a SELEX round\n",
    "bedtools intersect -v -a data/Gcn4_ChIP_Rawal_et_al.bed -b data/Gcn4_SELEX_1.bed | wc -l"
   ]
  },
  {
   "cell_type": "code",
   "execution_count": 15,
   "metadata": {},
   "outputs": [
    {
     "name": "stdout",
     "output_type": "stream",
     "text": [
      "     546\n"
     ]
    }
   ],
   "source": [
    "# Total number of ChIP-seq peaks\n",
    "cat data/Gcn4_ChIP_Rawal_et_al.bed | wc -l"
   ]
  },
  {
   "cell_type": "markdown",
   "metadata": {},
   "source": [
    "That is strange!  \n",
    "83 + 465 is not equal to 546...\n",
    "\n",
    "Why is this happening?  \n",
    "This can happen if a peak from A overlapps with more peaks from B, in which case this peak is reported multiple times by bedtools intersect.  \n",
    "Check the number of peaks from B that overlap with each peak from A."
   ]
  },
  {
   "cell_type": "code",
   "execution_count": 16,
   "metadata": {},
   "outputs": [
    {
     "name": "stdout",
     "output_type": "stream",
     "text": [
      "chrXIII\t608876\t610041\t3\n",
      "chrXVI\t747134\t747587\t1\n",
      "chrXVI\t625087\t625563\t1\n",
      "chrXVI\t497283\t497717\t1\n",
      "chrXVI\t24781\t25501\t1\n",
      "chrXV\t771175\t771694\t1\n",
      "chrXV\t731686\t732110\t1\n",
      "chrXV\t62085\t62473\t1\n",
      "chrXV\t58336\t58828\t1\n",
      "chrXV\t405694\t406046\t1\n",
      "chrXV\t397884\t398436\t1\n",
      "chrXV\t257104\t257491\t1\n",
      "chrXV\t218619\t219290\t1\n",
      "chrXV\t107470\t107837\t1\n",
      "chrXIV\t590753\t591213\t1\n",
      "chrXIV\t426654\t427377\t1\n",
      "chrXIV\t222019\t222438\t1\n",
      "chrXIV\t201443\t201923\t1\n",
      "chrXIV\t150442\t150909\t1\n",
      "chrXIII\t845351\t845800\t1\n",
      "chrXIII\t825991\t826397\t1\n",
      "chrXIII\t667719\t668265\t1\n",
      "chrXIII\t637087\t637448\t1\n",
      "chrXIII\t440776\t441326\t1\n",
      "chrXII\t91526\t91975\t1\n",
      "chrXII\t839314\t839785\t1\n",
      "chrXII\t499808\t500260\t1\n",
      "chrXII\t444579\t445091\t1\n",
      "chrXII\t254563\t255033\t1\n",
      "chrXII\t204781\t205242\t1\n",
      "chrXII\t1035473\t1035900\t1\n",
      "chrXI\t448446\t448816\t1\n",
      "chrXI\t408107\t408519\t1\n",
      "chrXI\t335687\t336175\t1\n",
      "chrXI\t273823\t274312\t1\n",
      "chrXI\t223932\t224369\t1\n",
      "chrX\t691533\t691970\t1\n",
      "chrX\t686373\t686791\t1\n",
      "chrX\t632973\t633508\t1\n",
      "chrX\t416221\t416580\t1\n",
      "chrX\t298499\t298847\t1\n",
      "chrX\t268216\t268798\t1\n",
      "chrVIII\t491862\t492300\t1\n",
      "chrVIII\t431582\t431996\t1\n",
      "chrVIII\t299208\t299432\t1\n",
      "chrVIII\t166818\t167328\t1\n",
      "chrVIII\t118127\t118683\t1\n",
      "chrVIII\t103580\t103984\t1\n",
      "chrVII\t519899\t520345\t1\n",
      "chrVII\t309007\t309548\t1\n",
      "chrVII\t169594\t170108\t1\n",
      "chrVII\t159020\t159482\t1\n",
      "chrVI\t242577\t242978\t1\n",
      "chrVI\t204320\t204761\t1\n",
      "chrVI\t189114\t189555\t1\n",
      "chrVI\t103060\t103408\t1\n",
      "chrV\t294886\t295440\t1\n",
      "chrV\t279363\t279764\t1\n",
      "chrIX\t250245\t250778\t1\n",
      "chrIX\t189068\t189501\t1\n",
      "chrIX\t142381\t143113\t1\n",
      "chrIX\t10113\t10547\t1\n",
      "chrIV\t946012\t946671\t1\n",
      "chrIV\t819723\t820407\t1\n",
      "chrIV\t666088\t666373\t1\n",
      "chrIV\t643298\t643517\t1\n",
      "chrIV\t604847\t605329\t1\n",
      "chrIV\t360598\t361231\t1\n",
      "chrIV\t274054\t274498\t1\n",
      "chrIV\t155977\t156419\t1\n",
      "chrIV\t1445127\t1445580\t1\n",
      "chrIV\t136358\t136764\t1\n",
      "chrIV\t1220630\t1220894\t1\n",
      "chrIV\t1154071\t1154475\t1\n",
      "chrIII\t68018\t68766\t1\n",
      "chrII\t724235\t724667\t1\n",
      "chrII\t677887\t678451\t1\n",
      "chrII\t402131\t402607\t1\n",
      "chrII\t386407\t386868\t1\n",
      "chrI\t22053\t22364\t1\n",
      "chrI\t115325\t115832\t1\n",
      "chrXVI\t907002\t907418\t0\n",
      "chrXVI\t897209\t897598\t0\n",
      "chrXVI\t877610\t877922\t0\n",
      "chrXVI\t822216\t822596\t0\n",
      "chrXVI\t818579\t818822\t0\n",
      "chrXVI\t768705\t768973\t0\n",
      "chrXVI\t757698\t758124\t0\n",
      "chrXVI\t73940\t75293\t0\n",
      "chrXVI\t690140\t690485\t0\n",
      "chrXVI\t673394\t673693\t0\n",
      "chrXVI\t650497\t650835\t0\n",
      "chrXVI\t645251\t646320\t0\n",
      "chrXVI\t601592\t602037\t0\n",
      "chrXVI\t581894\t582277\t0\n",
      "chrXVI\t576074\t576366\t0\n",
      "chrXVI\t544873\t545296\t0\n",
      "chrXVI\t537401\t537661\t0\n",
      "chrXVI\t518256\t518690\t0\n",
      "chrXVI\t488201\t488445\t0\n",
      "chrXVI\t486488\t486772\t0\n",
      "chrXVI\t447940\t448319\t0\n",
      "chrXVI\t44279\t44635\t0\n",
      "chrXVI\t439401\t439718\t0\n",
      "chrXVI\t39424\t39838\t0\n",
      "chrXVI\t373198\t373457\t0\n",
      "chrXVI\t339319\t339679\t0\n",
      "chrXVI\t338503\t338733\t0\n",
      "chrXVI\t32598\t32997\t0\n",
      "chrXVI\t296897\t297664\t0\n",
      "chrXVI\t287076\t287398\t0\n",
      "chrXVI\t246666\t246978\t0\n",
      "chrXVI\t224629\t224912\t0\n",
      "chrXVI\t197983\t198237\t0\n",
      "chrXVI\t191441\t191963\t0\n",
      "chrXVI\t189913\t190205\t0\n",
      "chrXV\t96308\t96738\t0\n",
      "chrXV\t953803\t954299\t0\n",
      "chrXV\t890297\t890716\t0\n",
      "chrXV\t882878\t883442\t0\n",
      "chrXV\t882206\t882631\t0\n",
      "chrXV\t874584\t874918\t0\n",
      "chrXV\t854107\t854589\t0\n",
      "chrXV\t824527\t824928\t0\n",
      "chrXV\t757997\t758528\t0\n",
      "chrXV\t735902\t736156\t0\n",
      "chrXV\t721622\t722012\t0\n",
      "chrXV\t682288\t682667\t0\n",
      "chrXV\t656406\t656651\t0\n",
      "chrXV\t607501\t607967\t0\n",
      "chrXV\t570825\t571277\t0\n",
      "chrXV\t5475\t5704\t0\n",
      "chrXV\t522504\t522995\t0\n",
      "chrXV\t513054\t513544\t0\n",
      "chrXV\t501634\t501985\t0\n",
      "chrXV\t473544\t473817\t0\n",
      "chrXV\t472951\t473305\t0\n",
      "chrXV\t430467\t430730\t0\n",
      "chrXV\t426435\t426826\t0\n",
      "chrXV\t412596\t412911\t0\n",
      "chrXV\t39825\t40147\t0\n",
      "chrXV\t295631\t295983\t0\n",
      "chrXV\t282675\t282919\t0\n",
      "chrXV\t27771\t28016\t0\n",
      "chrXV\t219961\t220225\t0\n",
      "chrXV\t207143\t207502\t0\n",
      "chrXV\t206411\t206811\t0\n",
      "chrXV\t201887\t202153\t0\n",
      "chrXV\t159303\t160134\t0\n",
      "chrXV\t150378\t150867\t0\n",
      "chrXV\t146136\t146569\t0\n",
      "chrXV\t129523\t129890\t0\n",
      "chrXV\t1005877\t1006164\t0\n",
      "chrXIV\t90797\t91183\t0\n",
      "chrXIV\t782559\t782784\t0\n",
      "chrXIV\t774343\t774636\t0\n",
      "chrXIV\t764552\t764996\t0\n",
      "chrXIV\t762774\t763234\t0\n",
      "chrXIV\t733764\t733999\t0\n",
      "chrXIV\t715426\t715845\t0\n",
      "chrXIV\t690609\t691127\t0\n",
      "chrXIV\t68950\t69230\t0\n",
      "chrXIV\t672387\t672749\t0\n",
      "chrXIV\t642271\t642511\t0\n",
      "chrXIV\t622765\t623306\t0\n",
      "chrXIV\t559432\t559920\t0\n",
      "chrXIV\t51647\t52006\t0\n",
      "chrXIV\t503148\t503490\t0\n",
      "chrXIV\t502361\t502739\t0\n",
      "chrXIV\t493298\t493539\t0\n",
      "chrXIV\t48557\t48892\t0\n",
      "chrXIV\t453459\t453724\t0\n",
      "chrXIV\t412465\t412695\t0\n",
      "chrXIV\t402991\t403262\t0\n",
      "chrXIV\t392541\t392895\t0\n",
      "chrXIV\t381161\t381495\t0\n",
      "chrXIV\t339685\t339962\t0\n",
      "chrXIV\t301932\t302149\t0\n",
      "chrXIV\t300930\t301290\t0\n",
      "chrXIV\t295601\t295860\t0\n",
      "chrXIV\t28638\t28927\t0\n",
      "chrXIV\t284455\t284695\t0\n",
      "chrXIV\t234046\t234316\t0\n",
      "chrXIV\t219712\t220300\t0\n",
      "chrXIV\t206834\t207148\t0\n",
      "chrXIV\t161459\t161742\t0\n",
      "chrXIII\t816959\t817202\t0\n",
      "chrXIII\t807599\t807893\t0\n",
      "chrXIII\t780859\t781101\t0\n",
      "chrXIII\t774008\t774515\t0\n",
      "chrXIII\t766985\t767401\t0\n",
      "chrXIII\t756396\t756648\t0\n",
      "chrXIII\t655639\t656032\t0\n",
      "chrXIII\t653390\t653861\t0\n",
      "chrXIII\t554183\t554408\t0\n",
      "chrXIII\t546221\t546548\t0\n",
      "chrXIII\t540280\t540716\t0\n",
      "chrXIII\t505751\t506041\t0\n",
      "chrXIII\t504196\t504451\t0\n",
      "chrXIII\t480510\t480828\t0\n",
      "chrXIII\t457961\t458381\t0\n",
      "chrXIII\t402109\t402587\t0\n",
      "chrXIII\t396136\t396771\t0\n",
      "chrXIII\t37752\t38013\t0\n",
      "chrXIII\t361886\t362285\t0\n",
      "chrXIII\t317518\t317835\t0\n",
      "chrXIII\t311944\t312269\t0\n",
      "chrXIII\t306597\t306818\t0\n",
      "chrXIII\t304320\t304650\t0\n",
      "chrXIII\t260625\t260846\t0\n",
      "chrXIII\t238500\t238957\t0\n",
      "chrXIII\t223353\t223749\t0\n",
      "chrXIII\t115422\t115780\t0\n",
      "chrXII\t988801\t989087\t0\n",
      "chrXII\t914945\t915357\t0\n",
      "chrXII\t86850\t87243\t0\n",
      "chrXII\t838115\t839034\t0\n",
      "chrXII\t819303\t819589\t0\n",
      "chrXII\t793638\t793987\t0\n",
      "chrXII\t790730\t791076\t0\n",
      "chrXII\t783738\t784131\t0\n",
      "chrXII\t742771\t743041\t0\n",
      "chrXII\t721893\t722267\t0\n",
      "chrXII\t69075\t69366\t0\n",
      "chrXII\t677817\t678067\t0\n",
      "chrXII\t676737\t677132\t0\n",
      "chrXII\t585113\t585537\t0\n",
      "chrXII\t540436\t540730\t0\n",
      "chrXII\t46433\t46717\t0\n",
      "chrXII\t404024\t404498\t0\n",
      "chrXII\t38693\t39103\t0\n",
      "chrXII\t374043\t374342\t0\n",
      "chrXII\t370488\t370735\t0\n",
      "chrXII\t22765\t23039\t0\n",
      "chrXII\t205440\t205844\t0\n",
      "chrXII\t198010\t198416\t0\n",
      "chrXII\t1059051\t1059336\t0\n",
      "chrXII\t103153\t103609\t0\n",
      "chrXII\t1005831\t1006066\t0\n",
      "chrXI\t664399\t664672\t0\n",
      "chrXI\t630516\t630752\t0\n",
      "chrXI\t605266\t605498\t0\n",
      "chrXI\t578268\t578597\t0\n",
      "chrXI\t575651\t575964\t0\n",
      "chrXI\t552225\t552594\t0\n",
      "chrXI\t533746\t533973\t0\n",
      "chrXI\t518863\t519488\t0\n",
      "chrXI\t465757\t466282\t0\n",
      "chrXI\t416142\t416582\t0\n",
      "chrXI\t394780\t395074\t0\n",
      "chrXI\t393519\t393891\t0\n",
      "chrXI\t383394\t383724\t0\n",
      "chrXI\t38089\t38470\t0\n",
      "chrXI\t374273\t374640\t0\n",
      "chrXI\t325379\t325644\t0\n",
      "chrXI\t3251\t3665\t0\n",
      "chrXI\t259594\t259877\t0\n",
      "chrXI\t258636\t258945\t0\n",
      "chrXI\t239844\t240162\t0\n",
      "chrXI\t202655\t203191\t0\n",
      "chrXI\t18432\t18737\t0\n",
      "chrXI\t143142\t143439\t0\n",
      "chrXI\t117026\t117282\t0\n",
      "chrX\t73787\t74671\t0\n",
      "chrX\t703497\t703823\t0\n",
      "chrX\t667078\t667388\t0\n",
      "chrX\t65552\t65782\t0\n",
      "chrX\t636701\t636993\t0\n",
      "chrX\t611724\t611974\t0\n",
      "chrX\t58842\t59257\t0\n",
      "chrX\t557553\t558031\t0\n",
      "chrX\t557016\t557392\t0\n",
      "chrX\t54483\t54911\t0\n",
      "chrX\t522183\t522581\t0\n",
      "chrX\t499855\t500273\t0\n",
      "chrX\t497204\t497613\t0\n",
      "chrX\t471609\t471963\t0\n",
      "chrX\t466131\t466531\t0\n",
      "chrX\t451713\t452096\t0\n",
      "chrX\t414815\t415179\t0\n",
      "chrX\t400521\t400840\t0\n",
      "chrX\t36586\t36883\t0\n",
      "chrX\t347759\t348045\t0\n",
      "chrX\t342390\t342617\t0\n",
      "chrX\t305863\t306217\t0\n",
      "chrX\t297197\t297563\t0\n",
      "chrX\t287379\t287777\t0\n",
      "chrX\t200980\t201249\t0\n",
      "chrX\t173029\t173409\t0\n",
      "chrX\t169341\t169567\t0\n",
      "chrX\t10110\t10534\t0\n",
      "chrVIII\t541608\t541857\t0\n",
      "chrVIII\t534272\t534541\t0\n",
      "chrVIII\t532991\t533440\t0\n",
      "chrVIII\t517209\t517535\t0\n",
      "chrVIII\t50812\t51136\t0\n",
      "chrVIII\t47661\t48060\t0\n",
      "chrVIII\t46060\t46281\t0\n",
      "chrVIII\t449208\t449435\t0\n",
      "chrVIII\t438288\t438730\t0\n",
      "chrVIII\t433440\t433874\t0\n",
      "chrVIII\t422505\t422950\t0\n",
      "chrVIII\t391138\t391439\t0\n",
      "chrVIII\t386049\t386391\t0\n",
      "chrVIII\t353434\t353669\t0\n",
      "chrVIII\t303795\t304314\t0\n",
      "chrVIII\t236280\t236815\t0\n",
      "chrVIII\t225320\t225648\t0\n",
      "chrVIII\t200639\t200973\t0\n",
      "chrVIII\t168499\t168779\t0\n",
      "chrVIII\t156172\t156400\t0\n",
      "chrVIII\t153090\t153580\t0\n",
      "chrVIII\t146167\t146637\t0\n",
      "chrVIII\t141216\t141813\t0\n",
      "chrVIII\t139138\t139446\t0\n",
      "chrVIII\t136282\t136556\t0\n",
      "chrVIII\t11460\t11739\t0\n",
      "chrVII\t991314\t991613\t0\n",
      "chrVII\t963743\t964062\t0\n",
      "chrVII\t950213\t950503\t0\n",
      "chrVII\t905663\t905884\t0\n",
      "chrVII\t893992\t894301\t0\n",
      "chrVII\t886560\t886811\t0\n",
      "chrVII\t880183\t880513\t0\n",
      "chrVII\t876259\t876596\t0\n",
      "chrVII\t809689\t810085\t0\n",
      "chrVII\t79006\t79400\t0\n",
      "chrVII\t78646\t78902\t0\n",
      "chrVII\t769020\t769239\t0\n",
      "chrVII\t730298\t730532\t0\n",
      "chrVII\t713605\t713966\t0\n",
      "chrVII\t712211\t712532\t0\n",
      "chrVII\t686020\t686269\t0\n",
      "chrVII\t678147\t678395\t0\n",
      "chrVII\t671979\t672249\t0\n",
      "chrVII\t66731\t67119\t0\n",
      "chrVII\t653901\t654222\t0\n",
      "chrVII\t625143\t625410\t0\n",
      "chrVII\t619762\t620148\t0\n",
      "chrVII\t592366\t592792\t0\n",
      "chrVII\t56024\t56360\t0\n",
      "chrVII\t544531\t544799\t0\n",
      "chrVII\t526631\t526901\t0\n",
      "chrVII\t478850\t479084\t0\n",
      "chrVII\t466299\t466719\t0\n",
      "chrVII\t455857\t456172\t0\n",
      "chrVII\t448484\t448762\t0\n",
      "chrVII\t437080\t437379\t0\n",
      "chrVII\t420913\t421203\t0\n",
      "chrVII\t392360\t392888\t0\n",
      "chrVII\t379906\t380160\t0\n",
      "chrVII\t328506\t328842\t0\n",
      "chrVII\t325463\t325728\t0\n",
      "chrVII\t323722\t323949\t0\n",
      "chrVII\t313232\t313542\t0\n",
      "chrVII\t288023\t288584\t0\n",
      "chrVII\t271955\t272345\t0\n",
      "chrVII\t226054\t226462\t0\n",
      "chrVII\t220401\t220634\t0\n",
      "chrVII\t20334\t20758\t0\n",
      "chrVII\t185546\t185920\t0\n",
      "chrVII\t156186\t156586\t0\n",
      "chrVII\t122104\t122465\t0\n",
      "chrVII\t120114\t120494\t0\n",
      "chrVII\t115687\t115999\t0\n"
     ]
    },
    {
     "name": "stdout",
     "output_type": "stream",
     "text": [
      "chrVII\t1077875\t1078209\t0\n",
      "chrVII\t1051957\t1052200\t0\n",
      "chrVII\t1025498\t1025984\t0\n",
      "chrVI\t95490\t95824\t0\n",
      "chrVI\t80174\t80551\t0\n",
      "chrVI\t267136\t267611\t0\n",
      "chrVI\t263385\t263797\t0\n",
      "chrVI\t250397\t250842\t0\n",
      "chrVI\t210127\t210763\t0\n",
      "chrVI\t200816\t201045\t0\n",
      "chrVI\t131045\t131293\t0\n",
      "chrVI\t118341\t118637\t0\n",
      "chrV\t77619\t77853\t0\n",
      "chrV\t68916\t69335\t0\n",
      "chrV\t540282\t540757\t0\n",
      "chrV\t485875\t486106\t0\n",
      "chrV\t465557\t465795\t0\n",
      "chrV\t435636\t435973\t0\n",
      "chrV\t434561\t434958\t0\n",
      "chrV\t419240\t419472\t0\n",
      "chrV\t337635\t338010\t0\n",
      "chrV\t33541\t34065\t0\n",
      "chrV\t303605\t304068\t0\n",
      "chrV\t286709\t287305\t0\n",
      "chrV\t271245\t271619\t0\n",
      "chrV\t265719\t266256\t0\n",
      "chrV\t257997\t258492\t0\n",
      "chrV\t244997\t245226\t0\n",
      "chrV\t229539\t229860\t0\n",
      "chrV\t226458\t226869\t0\n",
      "chrV\t201889\t202219\t0\n",
      "chrV\t16022\t16295\t0\n",
      "chrV\t152746\t153178\t0\n",
      "chrV\t146167\t146423\t0\n",
      "chrV\t141039\t141415\t0\n",
      "chrIX\t86004\t86227\t0\n",
      "chrIX\t56341\t56759\t0\n",
      "chrIX\t420655\t421138\t0\n",
      "chrIX\t386577\t386938\t0\n",
      "chrIX\t384055\t384379\t0\n",
      "chrIX\t366820\t367049\t0\n",
      "chrIX\t34482\t35013\t0\n",
      "chrIX\t300095\t300442\t0\n",
      "chrIX\t258260\t258495\t0\n",
      "chrIX\t248769\t249449\t0\n",
      "chrIX\t237921\t238297\t0\n",
      "chrIX\t212144\t212560\t0\n",
      "chrIX\t211706\t211978\t0\n",
      "chrIX\t210327\t210773\t0\n",
      "chrIX\t205233\t205627\t0\n",
      "chrIX\t186827\t187237\t0\n",
      "chrIX\t184150\t184404\t0\n",
      "chrIX\t152977\t153245\t0\n",
      "chrIX\t138223\t138470\t0\n",
      "chrIV\t999523\t999798\t0\n",
      "chrIV\t976571\t976831\t0\n",
      "chrIV\t974184\t974555\t0\n",
      "chrIV\t966630\t966914\t0\n",
      "chrIV\t961453\t961778\t0\n",
      "chrIV\t955189\t955415\t0\n",
      "chrIV\t950473\t950898\t0\n",
      "chrIV\t934818\t935383\t0\n",
      "chrIV\t914004\t914225\t0\n",
      "chrIV\t901222\t901626\t0\n",
      "chrIV\t835040\t835553\t0\n",
      "chrIV\t803491\t803955\t0\n",
      "chrIV\t797572\t797895\t0\n",
      "chrIV\t795540\t795930\t0\n",
      "chrIV\t770009\t770354\t0\n",
      "chrIV\t74638\t74923\t0\n",
      "chrIV\t742183\t742632\t0\n",
      "chrIV\t703866\t704556\t0\n",
      "chrIV\t69384\t69737\t0\n",
      "chrIV\t667976\t668402\t0\n",
      "chrIV\t599999\t600291\t0\n",
      "chrIV\t578869\t579198\t0\n",
      "chrIV\t577641\t578030\t0\n",
      "chrIV\t57725\t58108\t0\n",
      "chrIV\t566760\t567173\t0\n",
      "chrIV\t52919\t53215\t0\n",
      "chrIV\t521500\t521813\t0\n",
      "chrIV\t512206\t512521\t0\n",
      "chrIV\t49974\t50275\t0\n",
      "chrIV\t465128\t465606\t0\n",
      "chrIV\t410897\t411211\t0\n",
      "chrIV\t407265\t407830\t0\n",
      "chrIV\t391936\t392288\t0\n",
      "chrIV\t384640\t384917\t0\n",
      "chrIV\t334536\t334903\t0\n",
      "chrIV\t334246\t334476\t0\n",
      "chrIV\t320837\t321226\t0\n",
      "chrIV\t280346\t280638\t0\n",
      "chrIV\t252729\t253068\t0\n",
      "chrIV\t226972\t227300\t0\n",
      "chrIV\t191841\t192089\t0\n",
      "chrIV\t162302\t162743\t0\n",
      "chrIV\t1498185\t1498681\t0\n",
      "chrIV\t1490701\t1490943\t0\n",
      "chrIV\t1489848\t1490379\t0\n",
      "chrIV\t1468816\t1469195\t0\n",
      "chrIV\t1457176\t1457595\t0\n",
      "chrIV\t1450652\t1450901\t0\n",
      "chrIV\t1429013\t1429274\t0\n",
      "chrIV\t1419997\t1420457\t0\n",
      "chrIV\t1411798\t1412031\t0\n",
      "chrIV\t1399150\t1399433\t0\n",
      "chrIV\t1357764\t1358152\t0\n",
      "chrIV\t1352317\t1352915\t0\n",
      "chrIV\t132589\t133306\t0\n",
      "chrIV\t1321028\t1321568\t0\n",
      "chrIV\t1315654\t1316148\t0\n",
      "chrIV\t1305156\t1305586\t0\n",
      "chrIV\t1294994\t1295227\t0\n",
      "chrIV\t1243780\t1244151\t0\n",
      "chrIV\t1238058\t1238410\t0\n",
      "chrIV\t1237480\t1237738\t0\n",
      "chrIV\t1234948\t1235189\t0\n",
      "chrIV\t1226313\t1226586\t0\n",
      "chrIV\t121214\t121446\t0\n",
      "chrIV\t1201590\t1201954\t0\n",
      "chrIV\t1184317\t1184727\t0\n",
      "chrIV\t1153629\t1154007\t0\n",
      "chrIV\t1111096\t1111549\t0\n",
      "chrIV\t110070\t110322\t0\n",
      "chrIV\t104358\t104890\t0\n",
      "chrIV\t1029855\t1030193\t0\n",
      "chrIII\t67561\t67815\t0\n",
      "chrIII\t5100\t5350\t0\n",
      "chrIII\t44980\t45455\t0\n",
      "chrIII\t232179\t232481\t0\n",
      "chrIII\t216113\t216656\t0\n",
      "chrIII\t182670\t182909\t0\n",
      "chrIII\t105411\t105937\t0\n",
      "chrII\t99287\t99527\t0\n",
      "chrII\t84165\t84504\t0\n",
      "chrII\t806634\t806915\t0\n",
      "chrII\t727966\t728349\t0\n",
      "chrII\t718148\t718489\t0\n",
      "chrII\t716460\t716861\t0\n",
      "chrII\t697068\t697389\t0\n",
      "chrII\t662393\t662789\t0\n",
      "chrII\t649611\t649865\t0\n",
      "chrII\t625308\t625633\t0\n",
      "chrII\t591882\t592140\t0\n",
      "chrII\t576553\t576825\t0\n",
      "chrII\t569690\t570070\t0\n",
      "chrII\t555794\t556063\t0\n",
      "chrII\t554748\t554985\t0\n",
      "chrII\t549913\t550353\t0\n",
      "chrII\t548042\t548332\t0\n",
      "chrII\t536226\t536603\t0\n",
      "chrII\t533354\t533717\t0\n",
      "chrII\t473867\t474307\t0\n",
      "chrII\t466325\t466734\t0\n",
      "chrII\t449316\t449661\t0\n",
      "chrII\t419776\t420142\t0\n",
      "chrII\t383993\t384242\t0\n",
      "chrII\t375758\t376092\t0\n",
      "chrII\t374730\t375292\t0\n",
      "chrII\t363542\t363788\t0\n",
      "chrII\t358931\t359204\t0\n",
      "chrII\t331530\t331810\t0\n",
      "chrII\t324088\t324580\t0\n",
      "chrII\t311700\t311973\t0\n",
      "chrII\t306898\t307166\t0\n",
      "chrII\t23745\t24322\t0\n",
      "chrII\t159594\t159870\t0\n",
      "chrII\t137610\t137893\t0\n",
      "chrII\t135922\t136303\t0\n",
      "chrII\t114553\t114786\t0\n",
      "chrI\t99083\t99448\t0\n",
      "chrI\t89170\t89612\t0\n",
      "chrI\t75011\t75257\t0\n",
      "chrI\t54820\t55264\t0\n",
      "chrI\t220969\t221278\t0\n",
      "chrI\t213651\t213921\t0\n",
      "chrI\t212397\t212835\t0\n",
      "chrI\t197185\t197492\t0\n",
      "chrI\t19302\t19696\t0\n",
      "chrI\t18235\t18470\t0\n",
      "chrI\t129160\t129450\t0\n"
     ]
    }
   ],
   "source": [
    "bedtools intersect -wa -c -a data/Gcn4_ChIP_Rawal_et_al.bed -b data/Gcn4_SELEX_1.bed | \\\n",
    "    sort -rn -t $'\\t' -k4,4"
   ]
  },
  {
   "cell_type": "markdown",
   "metadata": {
    "slideshow": {
     "slide_type": "slide"
    }
   },
   "source": [
    "We find that a peak from Gcn4_ChIP_Rawal_et_al.bed (chrXIII:608876-610041) overlaps with 3 peaks from Gcn4_SELEX_1.bed. That peak will be reported by `bedtools` 3 times in the resulting intersection list."
   ]
  },
  {
   "cell_type": "code",
   "execution_count": 17,
   "metadata": {},
   "outputs": [
    {
     "name": "stdout",
     "output_type": "stream",
     "text": [
      "chrXIII\t608876\t610041\n",
      "chrXIII\t608876\t610041\n",
      "chrXIII\t608876\t610041\n"
     ]
    }
   ],
   "source": [
    "# Check the above statement\n",
    "bedtools intersect -wa -a data/Gcn4_ChIP_Rawal_et_al.bed -b data/Gcn4_SELEX_1.bed | \\\n",
    "    grep \"chrXIII\\t608876\\t610041\""
   ]
  },
  {
   "cell_type": "markdown",
   "metadata": {},
   "source": [
    "To correct this default behavior of bedtools, use the `-u` argument  \n",
    "```\n",
    "-u    Write the original A entry _once_ if _any_ overlaps found in B.\n",
    "```"
   ]
  },
  {
   "cell_type": "code",
   "execution_count": 18,
   "metadata": {},
   "outputs": [
    {
     "name": "stdout",
     "output_type": "stream",
     "text": [
      "chrXIII\t608876\t610041\n"
     ]
    }
   ],
   "source": [
    "# Check the effect of -u argument\n",
    "bedtools intersect -wa -u -a data/Gcn4_ChIP_Rawal_et_al.bed -b data/Gcn4_SELEX_1.bed | \\\n",
    "    grep \"chrXIII\\t608876\\t610041\""
   ]
  },
  {
   "cell_type": "markdown",
   "metadata": {},
   "source": [
    "Repeat the intersections, using the -u argument that reports unique peaks after intersection."
   ]
  },
  {
   "cell_type": "code",
   "execution_count": 19,
   "metadata": {},
   "outputs": [
    {
     "name": "stdout",
     "output_type": "stream",
     "text": [
      "Total number of ChIP-seq peaks:     546\n",
      "Number of ChIP-seq peaks detected in SELEX:      81\n",
      "Number of ChIP-seq peaks NOT detected in SELEX:     465\n"
     ]
    }
   ],
   "source": [
    "printf \"Total number of ChIP-seq peaks:\"\n",
    "cat data/Gcn4_ChIP_Rawal_et_al.bed | wc -l\n",
    "\n",
    "printf \"Number of ChIP-seq peaks detected in SELEX:\"\n",
    "bedtools intersect -wa -u -a data/Gcn4_ChIP_Rawal_et_al.bed -b data/Gcn4_SELEX_1.bed | wc -l\n",
    "\n",
    "printf \"Number of ChIP-seq peaks NOT detected in SELEX:\"\n",
    "bedtools intersect -v -a data/Gcn4_ChIP_Rawal_et_al.bed -b data/Gcn4_SELEX_1.bed | wc -l"
   ]
  },
  {
   "cell_type": "markdown",
   "metadata": {},
   "source": [
    "##### Exercise\n",
    "Repeat these computations with the SELEX peaks detected in round 2 & 3\n",
    "```\n",
    "bedtools intersect -wa -u -a data/Gcn4_ChIP_Rawal_et_al.bed -b data/Gcn4_SELEX_2.bed | wc -l\n",
    "bedtools intersect -v -a data/Gcn4_ChIP_Rawal_et_al.bed -b data/Gcn4_SELEX_2.bed | wc -l\n",
    "\n",
    "bedtools intersect -wa -u -a data/Gcn4_ChIP_Rawal_et_al.bed -b data/Gcn4_SELEX_3.bed | wc -l\n",
    "bedtools intersect -v -a data/Gcn4_ChIP_Rawal_et_al.bed -b data/Gcn4_SELEX_3.bed | wc -l\n",
    "```"
   ]
  },
  {
   "cell_type": "markdown",
   "metadata": {},
   "source": [
    "You should obtain the following results:  \n",
    "For SELEX round 2, 446 ChIP-seq peaks were detected, 100 peaks were not detected.  \n",
    "For SELEX round 3, 475 ChIP-seq peaks were detected, 71 peaks were not detected."
   ]
  },
  {
   "cell_type": "markdown",
   "metadata": {},
   "source": [
    "Next, let's look closer at the peaks detected in SELEX round 3. Let's split them into a list of peaks that were detected in ChIP-seq experiments, and a list of peaks that were NOT detected in ChIP-seq experiments."
   ]
  },
  {
   "cell_type": "code",
   "execution_count": 20,
   "metadata": {},
   "outputs": [
    {
     "name": "stdout",
     "output_type": "stream",
     "text": [
      "Total number of SELEX peaks:    2778\n",
      "Number of SELEX peaks detected in ChIP-seq:     499\n",
      "Number of SELEX peaks detected in ChIP-seq:    2279\n"
     ]
    }
   ],
   "source": [
    "printf \"Total number of SELEX peaks:\"\n",
    "cat data/Gcn4_SELEX_3.bed | wc -l\n",
    "\n",
    "printf \"Number of SELEX peaks detected in ChIP-seq:\"\n",
    "bedtools intersect -wa -u -a data/Gcn4_SELEX_3.bed -b data/Gcn4_ChIP_Rawal_et_al.bed \\\n",
    "    > data/SELEX_3_peaks_found_in_ChIP.bed\n",
    "cat data/SELEX_3_peaks_found_in_ChIP.bed | wc -l\n",
    "\n",
    "printf \"Number of SELEX peaks detected in ChIP-seq:\"\n",
    "bedtools intersect -v -a data/Gcn4_SELEX_3.bed -b data/Gcn4_ChIP_Rawal_et_al.bed \\\n",
    "    > data/SELEX_3_peaks_NOT_found_in_ChIP.bed\n",
    "cat data/SELEX_3_peaks_NOT_found_in_ChIP.bed | wc -l"
   ]
  },
  {
   "cell_type": "code",
   "execution_count": 21,
   "metadata": {},
   "outputs": [
    {
     "name": "stdout",
     "output_type": "stream",
     "text": [
      "-rw-r--r--  1 cherejirv  NIH\\Domain Users    45K Mar 26 16:51 data/SELEX_3_peaks_NOT_found_in_ChIP.bed\n",
      "-rw-r--r--  1 cherejirv  NIH\\Domain Users   9.9K Mar 26 16:51 data/SELEX_3_peaks_found_in_ChIP.bed\n"
     ]
    }
   ],
   "source": [
    "ls -lh data/SELEX_3_peaks_*.bed"
   ]
  },
  {
   "cell_type": "markdown",
   "metadata": {},
   "source": [
    "### Motif search using MEME"
   ]
  },
  {
   "cell_type": "markdown",
   "metadata": {
    "slideshow": {
     "slide_type": "fragment"
    }
   },
   "source": [
    "First we need to get the DNA sequence corresponding to the above BED files.  \n",
    "We can download the sacCer3 fasta file from here:  \n",
    "http://hgdownload.cse.ucsc.edu/goldenPath/sacCer3/bigZips/chromFa.tar.gz"
   ]
  },
  {
   "cell_type": "code",
   "execution_count": 22,
   "metadata": {},
   "outputs": [
    {
     "name": "stdout",
     "output_type": "stream",
     "text": [
      "  % Total    % Received % Xferd  Average Speed   Time    Time     Time  Current\n",
      "                                 Dload  Upload   Total   Spent    Left  Speed\n",
      "100 3730k  100 3730k    0     0  2156k      0  0:00:01  0:00:01 --:--:-- 2155k\n",
      "chrI.fa\n",
      "chrII.fa\n",
      "chrIII.fa\n",
      "chrIV.fa\n",
      "chrIX.fa\n",
      "chrM.fa\n",
      "chrV.fa\n",
      "chrVI.fa\n",
      "chrVII.fa\n",
      "chrVIII.fa\n",
      "chrX.fa\n",
      "chrXI.fa\n",
      "chrXII.fa\n",
      "chrXIII.fa\n",
      "chrXIV.fa\n",
      "chrXV.fa\n",
      "chrXVI.fa\n"
     ]
    }
   ],
   "source": [
    "curl http://hgdownload.cse.ucsc.edu/goldenPath/sacCer3/bigZips/chromFa.tar.gz \\\n",
    "    -o data/chromFa.tar.gz\n",
    "    \n",
    "# List the files from the archive    \n",
    "tar -tf data/chromFa.tar.gz"
   ]
  },
  {
   "cell_type": "code",
   "execution_count": 23,
   "metadata": {},
   "outputs": [],
   "source": [
    "# Extract FASTA files\n",
    "mkdir -p temp\n",
    "tar -C temp -zxf data/chromFa.tar.gz\n",
    "\n",
    "# Create a single FASTA file that contains the DNA sequences of all chromosomes\n",
    "cat temp/* > data/sacCer3.fa\n",
    "\n",
    "# Remove the temp folder and the tar.gz file\n",
    "rm -r temp\n",
    "rm data/chromFa.tar.gz"
   ]
  },
  {
   "cell_type": "markdown",
   "metadata": {},
   "source": [
    "### bedtools gatfasta\n",
    "Next we will use `bedtools getfasta` to obtain the DNA sequences corresponding to the found peaks.  \n",
    "![getfasta](img/getfasta-glyph.png \"bedtools getfasta\")"
   ]
  },
  {
   "cell_type": "markdown",
   "metadata": {},
   "source": [
    "But first, let's resize the intervals from the BED files to a constant width of 101 bp."
   ]
  },
  {
   "cell_type": "code",
   "execution_count": 24,
   "metadata": {},
   "outputs": [],
   "source": [
    "awk -F '\\t' '{X=50; mid=(int($2)+int($3))/2; printf(\"%s\\t%d\\t%d\\n\", $1, (mid-X<0?0:mid-X),mid+X);}' \\\n",
    "    data/SELEX_3_peaks_found_in_ChIP.bed \\\n",
    "    > data/resized_SELEX_3_peaks_found_in_ChIP.bed\n",
    "    \n",
    "awk -F '\\t' '{X=50; mid=(int($2)+int($3))/2; printf(\"%s\\t%d\\t%d\\n\", $1, (mid-X<0?0:mid-X),mid+X);}' \\\n",
    "    data/SELEX_3_peaks_NOT_found_in_ChIP.bed \\\n",
    "    > data/resized_SELEX_3_peaks_NOT_found_in_ChIP.bed"
   ]
  },
  {
   "cell_type": "markdown",
   "metadata": {},
   "source": [
    "Now, use `bedtools getfasta` to obtain the corresponding DNA sequences (necessary for MEME)"
   ]
  },
  {
   "cell_type": "code",
   "execution_count": 25,
   "metadata": {},
   "outputs": [
    {
     "name": "stdout",
     "output_type": "stream",
     "text": [
      "index file data/sacCer3.fa.fai not found, generating...\n"
     ]
    }
   ],
   "source": [
    "bedtools getfasta -fi data/sacCer3.fa -bed data/resized_SELEX_3_peaks_found_in_ChIP.bed \\\n",
    "    > data/resized_SELEX_3_peaks_found_in_ChIP.fa\n",
    "bedtools getfasta -fi data/sacCer3.fa -bed data/resized_SELEX_3_peaks_NOT_found_in_ChIP.bed \\\n",
    "    > data/resized_SELEX_3_peaks_NOT_found_in_ChIP.fa"
   ]
  },
  {
   "cell_type": "markdown",
   "metadata": {},
   "source": [
    "We generated the fasta files that contain the DNA sequences corresponding to the two classes of Gcn4 peaks: peaks that were found in ChIP-seq data, and peaks that were only found in SELEX-seq data but not in ChIP-seq.  \n",
    "\n",
    "Now, we can use `MEME` to generate the motifs corresponding to these two classes of peaks:  \n",
    "Step 1: Open a browser and go to http://meme-suite.org/tools/meme  \n",
    "The website should look like this:\n",
    "![MEME](img/MEME.png \"MEME tool\")"
   ]
  },
  {
   "cell_type": "markdown",
   "metadata": {},
   "source": [
    "Step 2: In the section **Input the primary sequences** click on **Choose File** and upload your fasta file witht the DNA sequences (resized_SELEX_3_peaks_found_in_ChIP.fa or resized_SELEX_3_peaks_NOT_found_in_ChIP.fa)  \n",
    "Step 3: Enter your email address, and a useful job description (this is how you'll be able to track the job results later)  \n",
    "Step 4: Click on **Start Search**"
   ]
  },
  {
   "cell_type": "markdown",
   "metadata": {},
   "source": [
    "When `MEME` has finished its thing, you'll receive an email with a link to the results. Among other things you'll find there the sequence motif with the corresponding position weight matrix."
   ]
  },
  {
   "cell_type": "markdown",
   "metadata": {},
   "source": [
    "### Further reading resources:  \n",
    "`bedtools` manual: https://bedtools.readthedocs.io/en/latest/index.html  \n",
    "`bedtools` tutorial: http://quinlanlab.org/tutorials/bedtools/bedtools.html  \n",
    "`MACS2` tutorial: https://github.com/taoliu/MACS/wiki/Call-differential-binding-events  \n",
    "ChIP-seq tutorial: http://ginolhac.github.io/chip-seq/peak/  "
   ]
  },
  {
   "cell_type": "code",
   "execution_count": null,
   "metadata": {},
   "outputs": [],
   "source": []
  }
 ],
 "metadata": {
  "kernelspec": {
   "display_name": "Bash",
   "language": "bash",
   "name": "bash"
  },
  "language_info": {
   "codemirror_mode": "shell",
   "file_extension": ".sh",
   "mimetype": "text/x-sh",
   "name": "bash"
  }
 },
 "nbformat": 4,
 "nbformat_minor": 2
}
