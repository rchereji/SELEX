{
 "cells": [
  {
   "cell_type": "markdown",
   "metadata": {},
   "source": [
    "## Gcn4 peak analysis"
   ]
  },
  {
   "cell_type": "markdown",
   "metadata": {},
   "source": [
    "### Running Bash commands inside a Jupyter notebook\n",
    "To run Bash commands in a Jupyter notebook, you need to install the Bash kernel for Jupyter. For that, run the following commands in the terminal:\n",
    "```\n",
    "pip install bash_kernel\n",
    "python -m bash_kernel.install\n",
    "```"
   ]
  },
  {
   "cell_type": "markdown",
   "metadata": {},
   "source": [
    "### Check the raw data"
   ]
  },
  {
   "cell_type": "markdown",
   "metadata": {},
   "source": [
    "We have a list of Gcn4 peaks (from in vivo/in vitro experiments) that we want to compare. Some peaks are stored in BED files, some peaks are stored in narrowPeak files (output from MACS2)."
   ]
  },
  {
   "cell_type": "code",
   "execution_count": 1,
   "metadata": {},
   "outputs": [
    {
     "name": "stdout",
     "output_type": "stream",
     "text": [
      "total 25448\n",
      "-rwxrwxrwx  1 cherejirv  NIH\\Domain Users    29K Mar 25 15:51 Gcn4_ChIP-seq_peaks.bed\n",
      "-rwxrwxrwx  1 cherejirv  NIH\\Domain Users    97K Mar 25 15:51 Gcn4_motifs.bed\n",
      "-rwxrwxrwx  1 cherejirv  NIH\\Domain Users    11K Mar 25 15:51 Round1_peaks.narrowPeak\n",
      "-rwxrwxrwx  1 cherejirv  NIH\\Domain Users   158K Mar 25 15:51 Round2_peaks.narrowPeak\n",
      "-rwxrwxrwx  1 cherejirv  NIH\\Domain Users   228K Mar 25 15:51 Round3_peaks.narrowPeak\n",
      "-rwxr-x---  1 cherejirv  NIH\\Domain Users    12M Mar 26 15:45 sacCer3.fa\n"
     ]
    }
   ],
   "source": [
    "# List the available BED files and narrowPeak files\n",
    "ls -lh raw_data/"
   ]
  },
  {
   "cell_type": "code",
   "execution_count": 2,
   "metadata": {},
   "outputs": [
    {
     "name": "stdout",
     "output_type": "stream",
     "text": [
      "chrI\t18235\t18470\tName=Peak_1;Nearest_TSS=YAL064W\n",
      "chrI\t19302\t19696\tName=Peak_2;Nearest_TSS=YAL064W\n",
      "chrI\t22053\t22364\tName=Peak_3;Nearest_TSS=YAL063C-A\n",
      "chrI\t54820\t55264\tName=Peak_4;Nearest_TSS=YAL048C\n",
      "chrI\t75011\t75257\tName=Peak_5;Nearest_TSS=YAL036C\n"
     ]
    }
   ],
   "source": [
    "# Check the head/tail of one of some these files\n",
    "head -n 5 raw_data/Gcn4_ChIP-seq_peaks.bed"
   ]
  },
  {
   "cell_type": "code",
   "execution_count": 3,
   "metadata": {},
   "outputs": [
    {
     "name": "stdout",
     "output_type": "stream",
     "text": [
      "chrXVI\t62090\t62195\tRound1_peak_150\t389\t.\t4.14545\t42.20868\t38.91930\t48\n",
      "chrXVI\t497444\t497563\tRound1_peak_151\t597\t.\t5.19936\t64.26705\t59.77417\t59\n",
      "chrXVI\t625273\t625399\tRound1_peak_152\t682\t.\t6.42615\t73.55953\t68.24533\t67\n",
      "chrXVI\t626000\t626100\tRound1_peak_153\t432\t.\t4.68250\t46.74600\t43.24176\t46\n",
      "chrXVI\t747290\t747400\tRound1_peak_154\t519\t.\t4.90535\t55.89925\t51.93674\t57\n"
     ]
    }
   ],
   "source": [
    "tail -n 5 raw_data/Round1_peaks.narrowPeak"
   ]
  },
  {
   "cell_type": "markdown",
   "metadata": {},
   "source": [
    "You can read more about the narrowPeak format here:  \n",
    "https://genome.ucsc.edu/FAQ/FAQformat.html#format12\n",
    "\n",
    "You can read more about the possible columns in a BED file here:  \n",
    "https://genome.ucsc.edu/FAQ/FAQformat.html#format1"
   ]
  },
  {
   "cell_type": "markdown",
   "metadata": {},
   "source": [
    "The raw files contain different numbers of rows. Let's make these look nicer by keeping only the rows that matter (chromosome name, start position, end position)."
   ]
  },
  {
   "cell_type": "code",
   "execution_count": 4,
   "metadata": {},
   "outputs": [],
   "source": [
    "# Make a new folder\n",
    "mkdir -p data\n",
    "\n",
    "# Remove the extra columns, and keep only the required first 3 columns\n",
    "cut -f 1,2,3 raw_data/Gcn4_ChIP-seq_peaks.bed | sort -k1,1V -k2,2n -k3,3n - > data/Gcn4_ChIP_Rawal_et_al.bed\n",
    "cut -f 1,2,3 raw_data/Gcn4_motifs.bed | sort -k1,1V -k2,2n -k3,3n - > data/Gcn4_motifs_Rawal_et_al.bed\n",
    "cut -f 1,2,3 raw_data/Round1_peaks.narrowPeak | sort -k1,1V -k2,2n -k3,3n - > data/Gcn4_SELEX_1.bed\n",
    "cut -f 1,2,3 raw_data/Round2_peaks.narrowPeak | sort -k1,1V -k2,2n -k3,3n - > data/Gcn4_SELEX_2.bed\n",
    "cut -f 1,2,3 raw_data/Round3_peaks.narrowPeak | sort -k1,1V -k2,2n -k3,3n - > data/Gcn4_SELEX_3.bed"
   ]
  },
  {
   "cell_type": "code",
   "execution_count": 5,
   "metadata": {},
   "outputs": [
    {
     "name": "stdout",
     "output_type": "stream",
     "text": [
      "==> data/Gcn4_ChIP_Rawal_et_al.bed <==\n",
      "chrI\t18235\t18470\n",
      "chrI\t19302\t19696\n",
      "chrI\t22053\t22364\n",
      "chrI\t54820\t55264\n",
      "chrI\t75011\t75257\n",
      "\n",
      "==> data/Gcn4_SELEX_1.bed <==\n",
      "chr2um\t76\t634\n",
      "chr2um\t819\t1523\n",
      "chr2um\t1643\t2085\n",
      "chr2um\t2170\t2751\n",
      "chr2um\t2855\t2968\n",
      "\n",
      "==> data/Gcn4_SELEX_2.bed <==\n",
      "chr2um\t79\t621\n",
      "chr2um\t858\t1054\n",
      "chr2um\t1198\t1462\n",
      "chr2um\t1642\t2096\n",
      "chr2um\t2253\t2733\n",
      "\n",
      "==> data/Gcn4_SELEX_3.bed <==\n",
      "chr2um\t140\t625\n",
      "chr2um\t1188\t1325\n",
      "chr2um\t1647\t2059\n",
      "chr2um\t2270\t2732\n",
      "chr2um\t3479\t3774\n",
      "\n",
      "==> data/Gcn4_motifs_Rawal_et_al.bed <==\n",
      "chrI\t13673\t13683\n",
      "chrI\t18324\t18334\n",
      "chrI\t19487\t19497\n",
      "chrI\t22216\t22226\n",
      "chrI\t33630\t33640\n"
     ]
    }
   ],
   "source": [
    "# Check the new files\n",
    "head -n 5 data/*"
   ]
  },
  {
   "cell_type": "markdown",
   "metadata": {},
   "source": [
    "We see that some SELEX peaks were mapped to the 2 micron plasmid. Some peaks are found on chrMT. Let's remove all these."
   ]
  },
  {
   "cell_type": "code",
   "execution_count": 6,
   "metadata": {},
   "outputs": [],
   "source": [
    "grep -v '^chr2um' data/Gcn4_SELEX_1.bed |\n",
    "    grep -v '^chrMT' - > data/Gcn4_SELEX_1_wo_2micron_and_mito.bed\n",
    "    \n",
    "grep -v '^chr2um' data/Gcn4_SELEX_2.bed |\n",
    "    grep -v '^chrMT' - > data/Gcn4_SELEX_2_wo_2micron_and_mito.bed\n",
    "    \n",
    "grep -v '^chr2um' data/Gcn4_SELEX_3.bed |\n",
    "    grep -v '^chrMT' - > data/Gcn4_SELEX_3_wo_2micron_and_mito.bed"
   ]
  },
  {
   "cell_type": "code",
   "execution_count": 7,
   "metadata": {},
   "outputs": [],
   "source": [
    "# Rename these file to simplify our life (overwrite the old files)\n",
    "mv data/Gcn4_SELEX_1_wo_2micron_and_mito.bed data/Gcn4_SELEX_1.bed\n",
    "mv data/Gcn4_SELEX_2_wo_2micron_and_mito.bed data/Gcn4_SELEX_2.bed\n",
    "mv data/Gcn4_SELEX_3_wo_2micron_and_mito.bed data/Gcn4_SELEX_3.bed"
   ]
  },
  {
   "cell_type": "code",
   "execution_count": 8,
   "metadata": {},
   "outputs": [
    {
     "name": "stdout",
     "output_type": "stream",
     "text": [
      "==> data/Gcn4_SELEX_1.bed <==\n",
      "chrI\t22164\t22293\n",
      "chrI\t80242\t80355\n",
      "chrI\t115563\t115684\n",
      "chrII\t33917\t34027\n",
      "chrII\t254305\t254427\n",
      "\n",
      "==> data/Gcn4_SELEX_2.bed <==\n",
      "chrI\t12978\t13078\n",
      "chrI\t18257\t18382\n",
      "chrI\t19406\t19567\n",
      "chrI\t22148\t22306\n",
      "chrI\t25112\t25248\n",
      "\n",
      "==> data/Gcn4_SELEX_3.bed <==\n",
      "chrI\t12961\t13094\n",
      "chrI\t13624\t13728\n",
      "chrI\t18243\t18381\n",
      "chrI\t19394\t19583\n",
      "chrI\t22136\t22318\n"
     ]
    }
   ],
   "source": [
    "# Check the new files\n",
    "head -n 5 data/Gcn4_SELEX_?.bed"
   ]
  },
  {
   "cell_type": "code",
   "execution_count": 9,
   "metadata": {},
   "outputs": [
    {
     "name": "stdout",
     "output_type": "stream",
     "text": [
      "     546 data/Gcn4_ChIP_Rawal_et_al.bed\n",
      "    1748 data/Gcn4_motifs_Rawal_et_al.bed\n",
      "     144 data/Gcn4_SELEX_1.bed\n",
      "    2227 data/Gcn4_SELEX_2.bed\n",
      "    2778 data/Gcn4_SELEX_3.bed\n",
      "    7443 total\n"
     ]
    }
   ],
   "source": [
    "# Let's check the number of peaks from each file (after we removed the peaks from the 2 micron plasmid)\n",
    "wc -l data/Gcn4_ChIP_Rawal_et_al.bed \\\n",
    "      data/Gcn4_motifs_Rawal_et_al.bed \\\n",
    "      data/Gcn4_SELEX_?.bed"
   ]
  },
  {
   "cell_type": "markdown",
   "metadata": {},
   "source": [
    "To do more complicated things, we'll use the `bedtools` package."
   ]
  },
  {
   "cell_type": "markdown",
   "metadata": {},
   "source": [
    "### Intro to bedtools\n",
    "To install bedtools, first install Homebrew (https://brew.sh/):\n",
    "```\n",
    "/usr/bin/ruby -e \"$(curl -fsSL https://raw.githubusercontent.com/Homebrew/install/master/install)\"\n",
    "```\n",
    "then install bedtools:\n",
    "```\n",
    "brew install bedtools\n",
    "```"
   ]
  },
  {
   "cell_type": "code",
   "execution_count": 10,
   "metadata": {},
   "outputs": [
    {
     "name": "stdout",
     "output_type": "stream",
     "text": [
      "/usr/local/bin/bedtools\n"
     ]
    }
   ],
   "source": [
    "# Check that bedtools is correctly installed and added to your PATH\n",
    "which bedtools"
   ]
  },
  {
   "cell_type": "code",
   "execution_count": 11,
   "metadata": {},
   "outputs": [
    {
     "name": "stdout",
     "output_type": "stream",
     "text": [
      "bedtools is a powerful toolset for genome arithmetic.\n",
      "\n",
      "Version:   v2.27.1\n",
      "About:     developed in the quinlanlab.org and by many contributors worldwide.\n",
      "Docs:      http://bedtools.readthedocs.io/\n",
      "Code:      https://github.com/arq5x/bedtools2\n",
      "Mail:      https://groups.google.com/forum/#!forum/bedtools-discuss\n",
      "\n",
      "Usage:     bedtools <subcommand> [options]\n",
      "\n",
      "The bedtools sub-commands include:\n",
      "\n",
      "[ Genome arithmetic ]\n",
      "    intersect     Find overlapping intervals in various ways.\n",
      "    window        Find overlapping intervals within a window around an interval.\n",
      "    closest       Find the closest, potentially non-overlapping interval.\n",
      "    coverage      Compute the coverage over defined intervals.\n",
      "    map           Apply a function to a column for each overlapping interval.\n",
      "    genomecov     Compute the coverage over an entire genome.\n",
      "    merge         Combine overlapping/nearby intervals into a single interval.\n",
      "    cluster       Cluster (but don't merge) overlapping/nearby intervals.\n",
      "    complement    Extract intervals _not_ represented by an interval file.\n",
      "    shift         Adjust the position of intervals.\n",
      "    subtract      Remove intervals based on overlaps b/w two files.\n",
      "    slop          Adjust the size of intervals.\n",
      "    flank         Create new intervals from the flanks of existing intervals.\n",
      "    sort          Order the intervals in a file.\n",
      "    random        Generate random intervals in a genome.\n",
      "    shuffle       Randomly redistrubute intervals in a genome.\n",
      "    sample        Sample random records from file using reservoir sampling.\n",
      "    spacing       Report the gap lengths between intervals in a file.\n",
      "    annotate      Annotate coverage of features from multiple files.\n",
      "\n",
      "[ Multi-way file comparisons ]\n",
      "    multiinter    Identifies common intervals among multiple interval files.\n",
      "    unionbedg     Combines coverage intervals from multiple BEDGRAPH files.\n",
      "\n",
      "[ Paired-end manipulation ]\n",
      "    pairtobed     Find pairs that overlap intervals in various ways.\n",
      "    pairtopair    Find pairs that overlap other pairs in various ways.\n",
      "\n",
      "[ Format conversion ]\n",
      "    bamtobed      Convert BAM alignments to BED (& other) formats.\n",
      "    bedtobam      Convert intervals to BAM records.\n",
      "    bamtofastq    Convert BAM records to FASTQ records.\n",
      "    bedpetobam    Convert BEDPE intervals to BAM records.\n",
      "    bed12tobed6   Breaks BED12 intervals into discrete BED6 intervals.\n",
      "\n",
      "[ Fasta manipulation ]\n",
      "    getfasta      Use intervals to extract sequences from a FASTA file.\n",
      "    maskfasta     Use intervals to mask sequences from a FASTA file.\n",
      "    nuc           Profile the nucleotide content of intervals in a FASTA file.\n",
      "\n",
      "[ BAM focused tools ]\n",
      "    multicov      Counts coverage from multiple BAMs at specific intervals.\n",
      "    tag           Tag BAM alignments based on overlaps with interval files.\n",
      "\n",
      "[ Statistical relationships ]\n",
      "    jaccard       Calculate the Jaccard statistic b/w two sets of intervals.\n",
      "    reldist       Calculate the distribution of relative distances b/w two files.\n",
      "    fisher        Calculate Fisher statistic b/w two feature files.\n",
      "\n",
      "[ Miscellaneous tools ]\n",
      "    overlap       Computes the amount of overlap from two intervals.\n",
      "    igv           Create an IGV snapshot batch script.\n",
      "    links         Create a HTML page of links to UCSC locations.\n",
      "    makewindows   Make interval \"windows\" across a genome.\n",
      "    groupby       Group by common cols. & summarize oth. cols. (~ SQL \"groupBy\")\n",
      "    expand        Replicate lines based on lists of values in columns.\n",
      "    split         Split a file into multiple files with equal records or base pairs.\n",
      "\n",
      "[ General help ]\n",
      "    --help        Print this help menu.\n",
      "    --version     What version of bedtools are you using?.\n",
      "    --contact     Feature requests, bugs, mailing lists, etc.\n",
      "\n"
     ]
    }
   ],
   "source": [
    "bedtools"
   ]
  },
  {
   "cell_type": "markdown",
   "metadata": {},
   "source": [
    "### bedtools intersect"
   ]
  },
  {
   "cell_type": "markdown",
   "metadata": {},
   "source": [
    "The `intersect` command is the workhorse of the `bedtools` suite. It compares two or more BED/BAM/VCF/GFF files and identifies all the regions in the gemome where the features in the two files overlap (that is, share at least one base pair in common)."
   ]
  },
  {
   "cell_type": "markdown",
   "metadata": {},
   "source": [
    "![intersect](img/bedtools_intersect-01.png \"bedtools intersect\")"
   ]
  },
  {
   "cell_type": "code",
   "execution_count": 12,
   "metadata": {},
   "outputs": [
    {
     "name": "stdout",
     "output_type": "stream",
     "text": [
      "\n",
      "Tool:    bedtools intersect (aka intersectBed)\n",
      "Version: v2.27.1\n",
      "Summary: Report overlaps between two feature files.\n",
      "\n",
      "Usage:   bedtools intersect [OPTIONS] -a <bed/gff/vcf/bam> -b <bed/gff/vcf/bam>\n",
      "\n",
      "\tNote: -b may be followed with multiple databases and/or \n",
      "\twildcard (*) character(s). \n",
      "Options: \n",
      "\t-wa\tWrite the original entry in A for each overlap.\n",
      "\n",
      "\t-wb\tWrite the original entry in B for each overlap.\n",
      "\t\t- Useful for knowing _what_ A overlaps. Restricted by -f and -r.\n",
      "\n",
      "\t-loj\tPerform a \"left outer join\". That is, for each feature in A\n",
      "\t\treport each overlap with B.  If no overlaps are found, \n",
      "\t\treport a NULL feature for B.\n",
      "\n",
      "\t-wo\tWrite the original A and B entries plus the number of base\n",
      "\t\tpairs of overlap between the two features.\n",
      "\t\t- Overlaps restricted by -f and -r.\n",
      "\t\t  Only A features with overlap are reported.\n",
      "\n",
      "\t-wao\tWrite the original A and B entries plus the number of base\n",
      "\t\tpairs of overlap between the two features.\n",
      "\t\t- Overlapping features restricted by -f and -r.\n",
      "\t\t  However, A features w/o overlap are also reported\n",
      "\t\t  with a NULL B feature and overlap = 0.\n",
      "\n",
      "\t-u\tWrite the original A entry _once_ if _any_ overlaps found in B.\n",
      "\t\t- In other words, just report the fact >=1 hit was found.\n",
      "\t\t- Overlaps restricted by -f and -r.\n",
      "\n",
      "\t-c\tFor each entry in A, report the number of overlaps with B.\n",
      "\t\t- Reports 0 for A entries that have no overlap with B.\n",
      "\t\t- Overlaps restricted by -f and -r.\n",
      "\n",
      "\t-v\tOnly report those entries in A that have _no overlaps_ with B.\n",
      "\t\t- Similar to \"grep -v\" (an homage).\n",
      "\n",
      "\t-ubam\tWrite uncompressed BAM output. Default writes compressed BAM.\n",
      "\n",
      "\t-s\tRequire same strandedness.  That is, only report hits in B\n",
      "\t\tthat overlap A on the _same_ strand.\n",
      "\t\t- By default, overlaps are reported without respect to strand.\n",
      "\n",
      "\t-S\tRequire different strandedness.  That is, only report hits in B\n",
      "\t\tthat overlap A on the _opposite_ strand.\n",
      "\t\t- By default, overlaps are reported without respect to strand.\n",
      "\n",
      "\t-f\tMinimum overlap required as a fraction of A.\n",
      "\t\t- Default is 1E-9 (i.e., 1bp).\n",
      "\t\t- FLOAT (e.g. 0.50)\n",
      "\n",
      "\t-F\tMinimum overlap required as a fraction of B.\n",
      "\t\t- Default is 1E-9 (i.e., 1bp).\n",
      "\t\t- FLOAT (e.g. 0.50)\n",
      "\n",
      "\t-r\tRequire that the fraction overlap be reciprocal for A AND B.\n",
      "\t\t- In other words, if -f is 0.90 and -r is used, this requires\n",
      "\t\t  that B overlap 90% of A and A _also_ overlaps 90% of B.\n",
      "\n",
      "\t-e\tRequire that the minimum fraction be satisfied for A OR B.\n",
      "\t\t- In other words, if -e is used with -f 0.90 and -F 0.10 this requires\n",
      "\t\t  that either 90% of A is covered OR 10% of  B is covered.\n",
      "\t\t  Without -e, both fractions would have to be satisfied.\n",
      "\n",
      "\t-split\tTreat \"split\" BAM or BED12 entries as distinct BED intervals.\n",
      "\n",
      "\t-g\tProvide a genome file to enforce consistent chromosome sort order\n",
      "\t\tacross input files. Only applies when used with -sorted option.\n",
      "\n",
      "\t-nonamecheck\tFor sorted data, don't throw an error if the file has different naming conventions\n",
      "\t\t\tfor the same chromosome. ex. \"chr1\" vs \"chr01\".\n",
      "\n",
      "\t-sorted\tUse the \"chromsweep\" algorithm for sorted (-k1,1 -k2,2n) input.\n",
      "\n",
      "\t-names\tWhen using multiple databases, provide an alias for each that\n",
      "\t\twill appear instead of a fileId when also printing the DB record.\n",
      "\n",
      "\t-filenames\tWhen using multiple databases, show each complete filename\n",
      "\t\t\tinstead of a fileId when also printing the DB record.\n",
      "\n",
      "\t-sortout\tWhen using multiple databases, sort the output DB hits\n",
      "\t\t\tfor each record.\n",
      "\n",
      "\t-bed\tIf using BAM input, write output as BED.\n",
      "\n",
      "\t-header\tPrint the header from the A file prior to results.\n",
      "\n",
      "\t-nobuf\tDisable buffered output. Using this option will cause each line\n",
      "\t\tof output to be printed as it is generated, rather than saved\n",
      "\t\tin a buffer. This will make printing large output files \n",
      "\t\tnoticeably slower, but can be useful in conjunction with\n",
      "\t\tother software tools and scripts that need to process one\n",
      "\t\tline of bedtools output at a time.\n",
      "\n",
      "\t-iobuf\tSpecify amount of memory to use for input buffer.\n",
      "\t\tTakes an integer argument. Optional suffixes K/M/G supported.\n",
      "\t\tNote: currently has no effect with compressed files.\n",
      "\n",
      "Notes: \n",
      "\t(1) When a BAM file is used for the A file, the alignment is retained if overlaps exist,\n",
      "\tand excluded if an overlap cannot be found.  If multiple overlaps exist, they are not\n",
      "\treported, as we are only testing for one or more overlaps.\n",
      "\n",
      "\n",
      "\n",
      "\n",
      "***** ERROR: No input file given. Exiting. *****\n"
     ]
    },
    {
     "ename": "",
     "evalue": "1",
     "output_type": "error",
     "traceback": []
    }
   ],
   "source": [
    "bedtools intersect"
   ]
  },
  {
   "cell_type": "markdown",
   "metadata": {},
   "source": [
    "The most useful options:\n",
    "```\n",
    "-wa    Write the original entry in A for each overlap.\n",
    "-v     Only report those entries in A that have _no overlaps_ with B.\n",
    "-wb    Write the original entry in B for each overlap.\n",
    "```"
   ]
  },
  {
   "cell_type": "code",
   "execution_count": 13,
   "metadata": {},
   "outputs": [
    {
     "name": "stdout",
     "output_type": "stream",
     "text": [
      "      83\n"
     ]
    }
   ],
   "source": [
    "# Check how many of the ChIP-seq peaks are found in a SELEX round\n",
    "bedtools intersect -wa -a data/Gcn4_ChIP_Rawal_et_al.bed -b data/Gcn4_SELEX_1.bed | wc -l"
   ]
  },
  {
   "cell_type": "code",
   "execution_count": 14,
   "metadata": {},
   "outputs": [
    {
     "name": "stdout",
     "output_type": "stream",
     "text": [
      "     465\n"
     ]
    }
   ],
   "source": [
    "# Check how many of the ChIP-seq peaks are NOT found in a SELEX round\n",
    "bedtools intersect -v -a data/Gcn4_ChIP_Rawal_et_al.bed -b data/Gcn4_SELEX_1.bed | wc -l"
   ]
  },
  {
   "cell_type": "code",
   "execution_count": 15,
   "metadata": {},
   "outputs": [
    {
     "name": "stdout",
     "output_type": "stream",
     "text": [
      "     546\n"
     ]
    }
   ],
   "source": [
    "# Total number of ChIP-seq peaks\n",
    "cat data/Gcn4_ChIP_Rawal_et_al.bed | wc -l"
   ]
  },
  {
   "cell_type": "markdown",
   "metadata": {},
   "source": [
    "That is strange!  \n",
    "83 + 465 is not equal to 546...\n",
    "\n",
    "Why is this happening?  \n",
    "This can happen if a peak from A overlapps with more peaks from B, in which case this peak is reported multiple times by bedtools intersect.  \n",
    "Check the number of peaks from B that overlap with each peak from A."
   ]
  },
  {
   "cell_type": "code",
   "execution_count": 16,
   "metadata": {},
   "outputs": [
    {
     "name": "stdout",
     "output_type": "stream",
     "text": [
      "chrXIII\t608876\t610041\t3\n",
      "chrXVI\t747134\t747587\t1\n",
      "chrXVI\t625087\t625563\t1\n",
      "chrXVI\t497283\t497717\t1\n",
      "chrXVI\t24781\t25501\t1\n",
      "chrXV\t771175\t771694\t1\n",
      "chrXV\t731686\t732110\t1\n",
      "chrXV\t62085\t62473\t1\n",
      "chrXV\t58336\t58828\t1\n",
      "chrXV\t405694\t406046\t1\n"
     ]
    }
   ],
   "source": [
    "bedtools intersect -wa -c -a data/Gcn4_ChIP_Rawal_et_al.bed -b data/Gcn4_SELEX_1.bed | \\\n",
    "    sort -rn -t $'\\t' -k4,4 | head"
   ]
  },
  {
   "cell_type": "markdown",
   "metadata": {
    "slideshow": {
     "slide_type": "slide"
    }
   },
   "source": [
    "We find that a peak from Gcn4_ChIP_Rawal_et_al.bed (chrXIII:608876-610041) overlaps with 3 peaks from Gcn4_SELEX_1.bed. That peak will be reported by `bedtools` 3 times in the resulting intersection list."
   ]
  },
  {
   "cell_type": "code",
   "execution_count": 17,
   "metadata": {},
   "outputs": [
    {
     "name": "stdout",
     "output_type": "stream",
     "text": [
      "chrXIII\t608876\t610041\n",
      "chrXIII\t608876\t610041\n",
      "chrXIII\t608876\t610041\n"
     ]
    }
   ],
   "source": [
    "# Check the above statement\n",
    "bedtools intersect -wa -a data/Gcn4_ChIP_Rawal_et_al.bed -b data/Gcn4_SELEX_1.bed | \\\n",
    "    grep \"chrXIII\\t608876\\t610041\""
   ]
  },
  {
   "cell_type": "markdown",
   "metadata": {},
   "source": [
    "To correct this default behavior of bedtools, use the `-u` argument  \n",
    "```\n",
    "-u    Write the original A entry _once_ if _any_ overlaps found in B.\n",
    "```"
   ]
  },
  {
   "cell_type": "code",
   "execution_count": 18,
   "metadata": {},
   "outputs": [
    {
     "name": "stdout",
     "output_type": "stream",
     "text": [
      "chrXIII\t608876\t610041\n"
     ]
    }
   ],
   "source": [
    "# Check the effect of -u argument\n",
    "bedtools intersect -wa -u -a data/Gcn4_ChIP_Rawal_et_al.bed -b data/Gcn4_SELEX_1.bed | \\\n",
    "    grep \"chrXIII\\t608876\\t610041\""
   ]
  },
  {
   "cell_type": "markdown",
   "metadata": {},
   "source": [
    "Repeat the intersections, using the -u argument that reports unique peaks after intersection."
   ]
  },
  {
   "cell_type": "code",
   "execution_count": 19,
   "metadata": {},
   "outputs": [
    {
     "name": "stdout",
     "output_type": "stream",
     "text": [
      "Total number of ChIP-seq peaks:     546\n",
      "Number of ChIP-seq peaks detected in SELEX:      81\n",
      "Number of ChIP-seq peaks NOT detected in SELEX:     465\n"
     ]
    }
   ],
   "source": [
    "printf \"Total number of ChIP-seq peaks:\"\n",
    "cat data/Gcn4_ChIP_Rawal_et_al.bed | wc -l\n",
    "\n",
    "printf \"Number of ChIP-seq peaks detected in SELEX:\"\n",
    "bedtools intersect -wa -u -a data/Gcn4_ChIP_Rawal_et_al.bed -b data/Gcn4_SELEX_1.bed | wc -l\n",
    "\n",
    "printf \"Number of ChIP-seq peaks NOT detected in SELEX:\"\n",
    "bedtools intersect -v -a data/Gcn4_ChIP_Rawal_et_al.bed -b data/Gcn4_SELEX_1.bed | wc -l"
   ]
  },
  {
   "cell_type": "markdown",
   "metadata": {},
   "source": [
    "##### Exercise\n",
    "Repeat these computations with the SELEX peaks detected in round 2 & 3\n",
    "```\n",
    "bedtools intersect -wa -u -a data/Gcn4_ChIP_Rawal_et_al.bed -b data/Gcn4_SELEX_2.bed | wc -l\n",
    "bedtools intersect -v -a data/Gcn4_ChIP_Rawal_et_al.bed -b data/Gcn4_SELEX_2.bed | wc -l\n",
    "\n",
    "bedtools intersect -wa -u -a data/Gcn4_ChIP_Rawal_et_al.bed -b data/Gcn4_SELEX_3.bed | wc -l\n",
    "bedtools intersect -v -a data/Gcn4_ChIP_Rawal_et_al.bed -b data/Gcn4_SELEX_3.bed | wc -l\n",
    "```"
   ]
  },
  {
   "cell_type": "markdown",
   "metadata": {},
   "source": [
    "You should obtain the following results:  \n",
    "For SELEX round 2, 446 ChIP-seq peaks were detected, 100 peaks were not detected.  \n",
    "For SELEX round 3, 475 ChIP-seq peaks were detected, 71 peaks were not detected."
   ]
  },
  {
   "cell_type": "markdown",
   "metadata": {},
   "source": [
    "Next, let's look closer at the peaks detected in SELEX round 3. Let's split them into a list of peaks that were detected in ChIP-seq experiments, and a list of peaks that were NOT detected in ChIP-seq experiments."
   ]
  },
  {
   "cell_type": "code",
   "execution_count": 20,
   "metadata": {},
   "outputs": [
    {
     "name": "stdout",
     "output_type": "stream",
     "text": [
      "Total number of SELEX peaks:    2778\n",
      "Number of SELEX peaks detected in ChIP-seq:     499\n",
      "Number of SELEX peaks detected in ChIP-seq:    2279\n"
     ]
    }
   ],
   "source": [
    "printf \"Total number of SELEX peaks:\"\n",
    "cat data/Gcn4_SELEX_3.bed | wc -l\n",
    "\n",
    "printf \"Number of SELEX peaks detected in ChIP-seq:\"\n",
    "bedtools intersect -wa -u -a data/Gcn4_SELEX_3.bed -b data/Gcn4_ChIP_Rawal_et_al.bed \\\n",
    "    > data/SELEX_3_peaks_found_in_ChIP.bed\n",
    "cat data/SELEX_3_peaks_found_in_ChIP.bed | wc -l\n",
    "\n",
    "printf \"Number of SELEX peaks detected in ChIP-seq:\"\n",
    "bedtools intersect -v -a data/Gcn4_SELEX_3.bed -b data/Gcn4_ChIP_Rawal_et_al.bed \\\n",
    "    > data/SELEX_3_peaks_NOT_found_in_ChIP.bed\n",
    "cat data/SELEX_3_peaks_NOT_found_in_ChIP.bed | wc -l"
   ]
  },
  {
   "cell_type": "code",
   "execution_count": 21,
   "metadata": {},
   "outputs": [
    {
     "name": "stdout",
     "output_type": "stream",
     "text": [
      "-rw-r--r--  1 cherejirv  NIH\\Domain Users    45K Mar 26 17:37 data/SELEX_3_peaks_NOT_found_in_ChIP.bed\n",
      "-rw-r--r--  1 cherejirv  NIH\\Domain Users   9.9K Mar 26 17:37 data/SELEX_3_peaks_found_in_ChIP.bed\n"
     ]
    }
   ],
   "source": [
    "ls -lh data/SELEX_3_peaks_*.bed"
   ]
  },
  {
   "cell_type": "markdown",
   "metadata": {},
   "source": [
    "### Motif search using MEME"
   ]
  },
  {
   "cell_type": "markdown",
   "metadata": {
    "slideshow": {
     "slide_type": "fragment"
    }
   },
   "source": [
    "First we need to get the DNA sequence corresponding to the above BED files.  \n",
    "We can download the sacCer3 fasta file from here:  \n",
    "http://hgdownload.cse.ucsc.edu/goldenPath/sacCer3/bigZips/chromFa.tar.gz"
   ]
  },
  {
   "cell_type": "code",
   "execution_count": 22,
   "metadata": {},
   "outputs": [
    {
     "name": "stdout",
     "output_type": "stream",
     "text": [
      "  % Total    % Received % Xferd  Average Speed   Time    Time     Time  Current\n",
      "                                 Dload  Upload   Total   Spent    Left  Speed\n",
      "100 3730k  100 3730k    0     0  2124k      0  0:00:01  0:00:01 --:--:-- 2123k\n",
      "chrI.fa\n",
      "chrII.fa\n",
      "chrIII.fa\n",
      "chrIV.fa\n",
      "chrIX.fa\n",
      "chrM.fa\n",
      "chrV.fa\n",
      "chrVI.fa\n",
      "chrVII.fa\n",
      "chrVIII.fa\n",
      "chrX.fa\n",
      "chrXI.fa\n",
      "chrXII.fa\n",
      "chrXIII.fa\n",
      "chrXIV.fa\n",
      "chrXV.fa\n",
      "chrXVI.fa\n"
     ]
    }
   ],
   "source": [
    "curl http://hgdownload.cse.ucsc.edu/goldenPath/sacCer3/bigZips/chromFa.tar.gz \\\n",
    "    -o data/chromFa.tar.gz\n",
    "    \n",
    "# List the files from the archive    \n",
    "tar -tf data/chromFa.tar.gz"
   ]
  },
  {
   "cell_type": "code",
   "execution_count": 23,
   "metadata": {},
   "outputs": [],
   "source": [
    "# Extract FASTA files\n",
    "mkdir -p temp\n",
    "tar -C temp -zxf data/chromFa.tar.gz\n",
    "\n",
    "# Create a single FASTA file that contains the DNA sequences of all chromosomes\n",
    "cat temp/* > data/sacCer3.fa\n",
    "\n",
    "# Remove the temp folder and the tar.gz file\n",
    "rm -r temp\n",
    "rm data/chromFa.tar.gz"
   ]
  },
  {
   "cell_type": "markdown",
   "metadata": {},
   "source": [
    "### bedtools gatfasta\n",
    "Next we will use `bedtools getfasta` to obtain the DNA sequences corresponding to the found peaks.  \n",
    "![getfasta](img/getfasta-glyph.png \"bedtools getfasta\")"
   ]
  },
  {
   "cell_type": "markdown",
   "metadata": {},
   "source": [
    "But first, let's resize the intervals from the BED files to a constant width of 101 bp."
   ]
  },
  {
   "cell_type": "code",
   "execution_count": 24,
   "metadata": {},
   "outputs": [],
   "source": [
    "awk -F '\\t' '{X=50; mid=(int($2)+int($3))/2; printf(\"%s\\t%d\\t%d\\n\", $1, (mid-X<0?0:mid-X),mid+X);}' \\\n",
    "    data/SELEX_3_peaks_found_in_ChIP.bed \\\n",
    "    > data/resized_SELEX_3_peaks_found_in_ChIP.bed\n",
    "    \n",
    "awk -F '\\t' '{X=50; mid=(int($2)+int($3))/2; printf(\"%s\\t%d\\t%d\\n\", $1, (mid-X<0?0:mid-X),mid+X);}' \\\n",
    "    data/SELEX_3_peaks_NOT_found_in_ChIP.bed \\\n",
    "    > data/resized_SELEX_3_peaks_NOT_found_in_ChIP.bed"
   ]
  },
  {
   "cell_type": "markdown",
   "metadata": {},
   "source": [
    "Now, use `bedtools getfasta` to obtain the corresponding DNA sequences (necessary for MEME)"
   ]
  },
  {
   "cell_type": "code",
   "execution_count": 25,
   "metadata": {},
   "outputs": [
    {
     "name": "stdout",
     "output_type": "stream",
     "text": [
      "index file data/sacCer3.fa.fai not found, generating...\n"
     ]
    }
   ],
   "source": [
    "bedtools getfasta -fi data/sacCer3.fa -bed data/resized_SELEX_3_peaks_found_in_ChIP.bed \\\n",
    "    > data/resized_SELEX_3_peaks_found_in_ChIP.fa\n",
    "bedtools getfasta -fi data/sacCer3.fa -bed data/resized_SELEX_3_peaks_NOT_found_in_ChIP.bed \\\n",
    "    > data/resized_SELEX_3_peaks_NOT_found_in_ChIP.fa"
   ]
  },
  {
   "cell_type": "markdown",
   "metadata": {},
   "source": [
    "We generated the fasta files that contain the DNA sequences corresponding to the two classes of Gcn4 peaks: peaks that were found in ChIP-seq data, and peaks that were only found in SELEX-seq data but not in ChIP-seq.  \n",
    "\n",
    "Now, we can use `MEME` to generate the motifs corresponding to these two classes of peaks:  \n",
    "Step 1: Open a browser and go to http://meme-suite.org/tools/meme  \n",
    "The website should look like this:\n",
    "![MEME](img/MEME.png \"MEME tool\")"
   ]
  },
  {
   "cell_type": "markdown",
   "metadata": {},
   "source": [
    "Step 2: In the section **Input the primary sequences** click on **Choose File** and upload your fasta file witht the DNA sequences (resized_SELEX_3_peaks_found_in_ChIP.fa or resized_SELEX_3_peaks_NOT_found_in_ChIP.fa)  \n",
    "Step 3: Enter your email address, and a useful job description (this is how you'll be able to track the job results later)  \n",
    "Step 4: Click on **Start Search**"
   ]
  },
  {
   "cell_type": "markdown",
   "metadata": {},
   "source": [
    "When `MEME` has finished its thing, you'll receive an email with a link to the results. Among other things you'll find there the sequence motif with the corresponding position weight matrix."
   ]
  },
  {
   "cell_type": "markdown",
   "metadata": {},
   "source": [
    "Using the 499 DNA sequences corresponding to the SELEX peaks that were detected in ChIP-seq, we obtain the following motif:\n",
    "![logo_ChIP](img/logo_ChIP.png \"logo ChIP\")\n",
    "\n",
    "Using the 2279 DNA sequences corresponding to the SELEX peaks that were not detected in ChIP-seq, we obtain the following motif:\n",
    "![logo_no_ChIP](img/logo_no_ChIP.png \"logo no ChIP\")"
   ]
  },
  {
   "cell_type": "markdown",
   "metadata": {},
   "source": [
    "The motif found in the SELEX peaks that were not seen in ChIP-seq data correspond to half of the typical motif!"
   ]
  },
  {
   "cell_type": "markdown",
   "metadata": {},
   "source": [
    "### Further reading resources:  \n",
    "`bedtools` manual: https://bedtools.readthedocs.io/en/latest/index.html  \n",
    "`bedtools` tutorial: http://quinlanlab.org/tutorials/bedtools/bedtools.html  \n",
    "`MACS2` tutorial: https://github.com/taoliu/MACS/wiki/Call-differential-binding-events  \n",
    "ChIP-seq tutorial: http://ginolhac.github.io/chip-seq/peak/  "
   ]
  },
  {
   "cell_type": "code",
   "execution_count": null,
   "metadata": {},
   "outputs": [],
   "source": []
  }
 ],
 "metadata": {
  "kernelspec": {
   "display_name": "Bash",
   "language": "bash",
   "name": "bash"
  },
  "language_info": {
   "codemirror_mode": "shell",
   "file_extension": ".sh",
   "mimetype": "text/x-sh",
   "name": "bash"
  }
 },
 "nbformat": 4,
 "nbformat_minor": 2
}
